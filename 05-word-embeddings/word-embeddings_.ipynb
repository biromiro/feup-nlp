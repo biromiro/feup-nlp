{
 "cells": [
  {
   "cell_type": "markdown",
   "metadata": {},
   "source": [
    "Notebook prepared by Henrique Lopes Cardoso (hlc@fe.up.pt), based on [Word2Vec Tutorial Notebook](https://github.com/kavgan/nlp-in-practice/tree/master/word2vec) by Kavita Ganesan and on [Gensim's documentation on the Word2Vec Model](https://radimrehurek.com/gensim/auto_examples/tutorials/run_word2vec.html).\n",
    "\n",
    "# WORD EMBEDDINGS"
   ]
  },
  {
   "cell_type": "markdown",
   "metadata": {},
   "source": [
    "## Word2Vec in Gensim\n",
    "\n",
    "[Word2Vec](https://code.google.com/archive/p/word2vec/) is a model for training word embeddings that revolutionized the way words are represented. [Gensim](https://radimrehurek.com/gensim_3.8.3/models/word2vec.html) provides an implementation of the algorithm, with which we can train our own word embeddings."
   ]
  },
  {
   "cell_type": "markdown",
   "metadata": {},
   "source": [
    "#### The data\n",
    "\n",
    "Training embeddings requires a big corpus, the bigger the better.\n",
    "\n",
    "For illustration purposes, we'll make use of the (not very big) [OpinRank](http://kavita-ganesan.com/entity-ranking-data/) dataset, which includes full reviews of cars and hotels. More specifically, we'll use an 84MB compressed file with 255404 hotel reviews.\n",
    "\n",
    "This is how each review looks like:"
   ]
  },
  {
   "cell_type": "code",
   "execution_count": 2,
   "metadata": {},
   "outputs": [
    {
     "name": "stdout",
     "output_type": "stream",
     "text": [
      "b\"Oct 12 2009 \\tNice trendy hotel location not too bad.\\tI stayed in this hotel for one night. As this is a fairly new place some of the taxi drivers did not know where it was and/or did not want to drive there. Once I have eventually arrived at the hotel, I was very pleasantly surprised with the decor of the lobby/ground floor area. It was very stylish and modern. I found the reception's staff geeting me with 'Aloha' a bit out of place, but I guess they are briefed to say that to keep up the coroporate image.As I have a Starwood Preferred Guest member, I was given a small gift upon-check in. It was only a couple of fridge magnets in a gift box, but nevertheless a nice gesture.My room was nice and roomy, there are tea and coffee facilities in each room and you get two complimentary bottles of water plus some toiletries by 'bliss'.The location is not great. It is at the last metro stop and you then need to take a taxi, but if you are not planning on going to see the historic sites in Beijing, then you will be ok.I chose to have some breakfast in the hotel, which was really tasty and there was a good selection of dishes. There are a couple of computers to use in the communal area, as well as a pool table. There is also a small swimming pool and a gym area.I would definitely stay in this hotel again, but only if I did not plan to travel to central Beijing, as it can take a long time. The location is ok if you plan to do a lot of shopping, as there is a big shopping centre just few minutes away from the hotel and there are plenty of eating options around, including restaurants that serve a dog meat!\\t\\r\\n\"\n"
     ]
    }
   ],
   "source": [
    "import gzip\n",
    "\n",
    "data_file=\"reviews_data.txt.gz\"\n",
    "\n",
    "with gzip.open ('reviews_data.txt.gz', 'rb') as f:\n",
    "    for i,line in enumerate (f):\n",
    "        print(line)\n",
    "        break"
   ]
  },
  {
   "cell_type": "markdown",
   "metadata": {},
   "source": [
    "Let's read the whole dataset into a list, while providing some logging information.\n",
    "\n",
    "In the process of reading the data directly from the compressed file, we'll perform some pre-processing of the reviews using [gensim.utils.simple_preprocess](https://tedboy.github.io/nlps/generated/generated/gensim.utils.simple_preprocess.html). This does some basic pre-processing such as tokenization and lowercasing, and returns back a list of tokens (words)."
   ]
  },
  {
   "cell_type": "code",
   "execution_count": 3,
   "metadata": {},
   "outputs": [],
   "source": [
    "import gensim\n",
    "import logging\n",
    "\n",
    "logging.basicConfig(format='%(asctime)s : %(levelname)s : %(message)s', level=logging.INFO)\n",
    "\n",
    "def read_input(input_file):\n",
    "    \"\"\"This method reads the input file which is in gzip format\"\"\"\n",
    "    \n",
    "    logging.info(\"reading file {0}...this may take a while\".format(input_file))\n",
    "    \n",
    "    with gzip.open (input_file, 'rb') as f:\n",
    "        for i, line in enumerate (f): \n",
    "\n",
    "            if (i%10000==0):\n",
    "                logging.info (\"read {0} reviews\".format (i))\n",
    "            # do some pre-processing and return a list of words for each review text\n",
    "            yield gensim.utils.simple_preprocess(line)\n",
    "    logging.info(\"Done reading data file\")"
   ]
  },
  {
   "cell_type": "code",
   "execution_count": 4,
   "metadata": {},
   "outputs": [
    {
     "name": "stderr",
     "output_type": "stream",
     "text": [
      "2023-03-10 10:17:53,079 : INFO : reading file reviews_data.txt.gz...this may take a while\n",
      "2023-03-10 10:17:53,081 : INFO : read 0 reviews\n",
      "2023-03-10 10:17:55,017 : INFO : read 10000 reviews\n",
      "2023-03-10 10:17:57,016 : INFO : read 20000 reviews\n",
      "2023-03-10 10:17:59,278 : INFO : read 30000 reviews\n",
      "2023-03-10 10:18:01,346 : INFO : read 40000 reviews\n",
      "2023-03-10 10:18:03,564 : INFO : read 50000 reviews\n",
      "2023-03-10 10:18:05,713 : INFO : read 60000 reviews\n",
      "2023-03-10 10:18:07,527 : INFO : read 70000 reviews\n",
      "2023-03-10 10:18:09,241 : INFO : read 80000 reviews\n",
      "2023-03-10 10:18:11,141 : INFO : read 90000 reviews\n",
      "2023-03-10 10:18:12,852 : INFO : read 100000 reviews\n",
      "2023-03-10 10:18:14,826 : INFO : read 110000 reviews\n",
      "2023-03-10 10:18:16,542 : INFO : read 120000 reviews\n",
      "2023-03-10 10:18:18,310 : INFO : read 130000 reviews\n",
      "2023-03-10 10:18:20,164 : INFO : read 140000 reviews\n",
      "2023-03-10 10:18:21,895 : INFO : read 150000 reviews\n",
      "2023-03-10 10:18:23,712 : INFO : read 160000 reviews\n",
      "2023-03-10 10:18:25,478 : INFO : read 170000 reviews\n",
      "2023-03-10 10:18:27,299 : INFO : read 180000 reviews\n",
      "2023-03-10 10:18:29,080 : INFO : read 190000 reviews\n",
      "2023-03-10 10:18:31,414 : INFO : read 200000 reviews\n",
      "2023-03-10 10:18:33,262 : INFO : read 210000 reviews\n",
      "2023-03-10 10:18:35,158 : INFO : read 220000 reviews\n",
      "2023-03-10 10:18:36,862 : INFO : read 230000 reviews\n",
      "2023-03-10 10:18:38,656 : INFO : read 240000 reviews\n",
      "2023-03-10 10:18:40,427 : INFO : read 250000 reviews\n",
      "2023-03-10 10:18:41,383 : INFO : Done reading data file\n"
     ]
    },
    {
     "data": {
      "text/plain": [
       "255404"
      ]
     },
     "execution_count": 4,
     "metadata": {},
     "output_type": "execute_result"
    }
   ],
   "source": [
    "# compressed file with the data\n",
    "data_file=\"reviews_data.txt.gz\"\n",
    "\n",
    "# read the tokenized reviews into a list\n",
    "documents = list(read_input(data_file))\n",
    "\n",
    "len(documents)"
   ]
  },
  {
   "cell_type": "markdown",
   "metadata": {},
   "source": [
    "Each review item becomes a list of words, so what we have is a list of lists."
   ]
  },
  {
   "cell_type": "code",
   "execution_count": 5,
   "metadata": {},
   "outputs": [
    {
     "name": "stdout",
     "output_type": "stream",
     "text": [
      "['oct', 'nice', 'trendy', 'hotel', 'location', 'not', 'too', 'bad', 'stayed', 'in', 'this', 'hotel', 'for', 'one', 'night', 'as', 'this', 'is', 'fairly', 'new', 'place', 'some', 'of', 'the', 'taxi', 'drivers', 'did', 'not', 'know', 'where', 'it', 'was', 'and', 'or', 'did', 'not', 'want', 'to', 'drive', 'there', 'once', 'have', 'eventually', 'arrived', 'at', 'the', 'hotel', 'was', 'very', 'pleasantly', 'surprised', 'with', 'the', 'decor', 'of', 'the', 'lobby', 'ground', 'floor', 'area', 'it', 'was', 'very', 'stylish', 'and', 'modern', 'found', 'the', 'reception', 'staff', 'geeting', 'me', 'with', 'aloha', 'bit', 'out', 'of', 'place', 'but', 'guess', 'they', 'are', 'briefed', 'to', 'say', 'that', 'to', 'keep', 'up', 'the', 'coroporate', 'image', 'as', 'have', 'starwood', 'preferred', 'guest', 'member', 'was', 'given', 'small', 'gift', 'upon', 'check', 'in', 'it', 'was', 'only', 'couple', 'of', 'fridge', 'magnets', 'in', 'gift', 'box', 'but', 'nevertheless', 'nice', 'gesture', 'my', 'room', 'was', 'nice', 'and', 'roomy', 'there', 'are', 'tea', 'and', 'coffee', 'facilities', 'in', 'each', 'room', 'and', 'you', 'get', 'two', 'complimentary', 'bottles', 'of', 'water', 'plus', 'some', 'toiletries', 'by', 'bliss', 'the', 'location', 'is', 'not', 'great', 'it', 'is', 'at', 'the', 'last', 'metro', 'stop', 'and', 'you', 'then', 'need', 'to', 'take', 'taxi', 'but', 'if', 'you', 'are', 'not', 'planning', 'on', 'going', 'to', 'see', 'the', 'historic', 'sites', 'in', 'beijing', 'then', 'you', 'will', 'be', 'ok', 'chose', 'to', 'have', 'some', 'breakfast', 'in', 'the', 'hotel', 'which', 'was', 'really', 'tasty', 'and', 'there', 'was', 'good', 'selection', 'of', 'dishes', 'there', 'are', 'couple', 'of', 'computers', 'to', 'use', 'in', 'the', 'communal', 'area', 'as', 'well', 'as', 'pool', 'table', 'there', 'is', 'also', 'small', 'swimming', 'pool', 'and', 'gym', 'area', 'would', 'definitely', 'stay', 'in', 'this', 'hotel', 'again', 'but', 'only', 'if', 'did', 'not', 'plan', 'to', 'travel', 'to', 'central', 'beijing', 'as', 'it', 'can', 'take', 'long', 'time', 'the', 'location', 'is', 'ok', 'if', 'you', 'plan', 'to', 'do', 'lot', 'of', 'shopping', 'as', 'there', 'is', 'big', 'shopping', 'centre', 'just', 'few', 'minutes', 'away', 'from', 'the', 'hotel', 'and', 'there', 'are', 'plenty', 'of', 'eating', 'options', 'around', 'including', 'restaurants', 'that', 'serve', 'dog', 'meat']\n"
     ]
    }
   ],
   "source": [
    "print(documents[0])"
   ]
  },
  {
   "cell_type": "markdown",
   "metadata": {},
   "source": [
    "#### Training the Word2Vec model\n",
    "\n",
    "To train a Word2Vec model, we instantiate Word2Vec and pass it the text we have loaded before. You can check the available options for [instantiation](https://radimrehurek.com/gensim_3.8.3/models/word2vec.html#gensim.models.word2vec.Word2Vec) and for [training](https://radimrehurek.com/gensim_3.8.3/models/word2vec.html#gensim.models.word2vec.Word2Vec.train).\n",
    "\n",
    "Training a Word2Vec model takes time, depending on your hardware. In this particular case, expect training to take something between 5 to 10 minutes on an Intel Core-i7 16GB desktop. I know, that's a very wide range, but of course it depends on which other processes are running in the same machine..."
   ]
  },
  {
   "cell_type": "code",
   "execution_count": 6,
   "metadata": {},
   "outputs": [
    {
     "name": "stderr",
     "output_type": "stream",
     "text": [
      "2023-03-10 10:19:29,565 : INFO : collecting all words and their counts\n",
      "2023-03-10 10:19:29,566 : INFO : PROGRESS: at sentence #0, processed 0 words, keeping 0 word types\n",
      "2023-03-10 10:19:29,799 : INFO : PROGRESS: at sentence #10000, processed 1655714 words, keeping 25777 word types\n",
      "2023-03-10 10:19:30,026 : INFO : PROGRESS: at sentence #20000, processed 3317863 words, keeping 35016 word types\n",
      "2023-03-10 10:19:30,295 : INFO : PROGRESS: at sentence #30000, processed 5264072 words, keeping 47518 word types\n",
      "2023-03-10 10:19:30,536 : INFO : PROGRESS: at sentence #40000, processed 7081746 words, keeping 56675 word types\n",
      "2023-03-10 10:19:30,805 : INFO : PROGRESS: at sentence #50000, processed 9089491 words, keeping 63744 word types\n",
      "2023-03-10 10:19:31,059 : INFO : PROGRESS: at sentence #60000, processed 11013727 words, keeping 76787 word types\n",
      "2023-03-10 10:19:31,285 : INFO : PROGRESS: at sentence #70000, processed 12637529 words, keeping 83200 word types\n",
      "2023-03-10 10:19:31,482 : INFO : PROGRESS: at sentence #80000, processed 14099755 words, keeping 88460 word types\n",
      "2023-03-10 10:19:31,688 : INFO : PROGRESS: at sentence #90000, processed 15662153 words, keeping 93358 word types\n",
      "2023-03-10 10:19:31,892 : INFO : PROGRESS: at sentence #100000, processed 17164491 words, keeping 97887 word types\n",
      "2023-03-10 10:19:32,100 : INFO : PROGRESS: at sentence #110000, processed 18652296 words, keeping 102133 word types\n",
      "2023-03-10 10:19:32,304 : INFO : PROGRESS: at sentence #120000, processed 20152533 words, keeping 105924 word types\n",
      "2023-03-10 10:19:32,519 : INFO : PROGRESS: at sentence #130000, processed 21684334 words, keeping 110105 word types\n",
      "2023-03-10 10:19:32,757 : INFO : PROGRESS: at sentence #140000, processed 23330210 words, keeping 114109 word types\n",
      "2023-03-10 10:19:32,969 : INFO : PROGRESS: at sentence #150000, processed 24838758 words, keeping 118175 word types\n",
      "2023-03-10 10:19:33,192 : INFO : PROGRESS: at sentence #160000, processed 26390914 words, keeping 118671 word types\n",
      "2023-03-10 10:19:33,399 : INFO : PROGRESS: at sentence #170000, processed 27913920 words, keeping 123357 word types\n",
      "2023-03-10 10:19:33,624 : INFO : PROGRESS: at sentence #180000, processed 29535616 words, keeping 126749 word types\n",
      "2023-03-10 10:19:33,831 : INFO : PROGRESS: at sentence #190000, processed 31096463 words, keeping 129848 word types\n",
      "2023-03-10 10:19:34,067 : INFO : PROGRESS: at sentence #200000, processed 32805275 words, keeping 133256 word types\n",
      "2023-03-10 10:19:34,286 : INFO : PROGRESS: at sentence #210000, processed 34434202 words, keeping 136365 word types\n",
      "2023-03-10 10:19:34,509 : INFO : PROGRESS: at sentence #220000, processed 36083486 words, keeping 139419 word types\n",
      "2023-03-10 10:19:34,718 : INFO : PROGRESS: at sentence #230000, processed 37571766 words, keeping 142400 word types\n",
      "2023-03-10 10:19:34,928 : INFO : PROGRESS: at sentence #240000, processed 39138194 words, keeping 145233 word types\n",
      "2023-03-10 10:19:35,137 : INFO : PROGRESS: at sentence #250000, processed 40695053 words, keeping 147967 word types\n",
      "2023-03-10 10:19:35,246 : INFO : collected 150060 word types from a corpus of 41519359 raw words and 255404 sentences\n",
      "2023-03-10 10:19:35,247 : INFO : Creating a fresh vocabulary\n",
      "2023-03-10 10:19:35,460 : INFO : Word2Vec lifecycle event {'msg': 'effective_min_count=2 retains 70537 unique words (47.01% of original 150060, drops 79523)', 'datetime': '2023-03-10T10:19:35.460001', 'gensim': '4.3.1', 'python': '3.10.10 (tags/v3.10.10:aad5f6a, Feb  7 2023, 17:20:36) [MSC v.1929 64 bit (AMD64)]', 'platform': 'Windows-10-10.0.22621-SP0', 'event': 'prepare_vocab'}\n",
      "2023-03-10 10:19:35,461 : INFO : Word2Vec lifecycle event {'msg': 'effective_min_count=2 leaves 41439836 word corpus (99.81% of original 41519359, drops 79523)', 'datetime': '2023-03-10T10:19:35.461002', 'gensim': '4.3.1', 'python': '3.10.10 (tags/v3.10.10:aad5f6a, Feb  7 2023, 17:20:36) [MSC v.1929 64 bit (AMD64)]', 'platform': 'Windows-10-10.0.22621-SP0', 'event': 'prepare_vocab'}\n",
      "2023-03-10 10:19:35,754 : INFO : deleting the raw counts dictionary of 150060 items\n",
      "2023-03-10 10:19:35,758 : INFO : sample=0.001 downsamples 55 most-common words\n",
      "2023-03-10 10:19:35,759 : INFO : Word2Vec lifecycle event {'msg': 'downsampling leaves estimated 30349251.36700416 word corpus (73.2%% of prior 41439836)', 'datetime': '2023-03-10T10:19:35.759308', 'gensim': '4.3.1', 'python': '3.10.10 (tags/v3.10.10:aad5f6a, Feb  7 2023, 17:20:36) [MSC v.1929 64 bit (AMD64)]', 'platform': 'Windows-10-10.0.22621-SP0', 'event': 'prepare_vocab'}\n",
      "2023-03-10 10:19:36,219 : INFO : estimated required memory for 70537 words and 150 dimensions: 119912900 bytes\n",
      "2023-03-10 10:19:36,220 : INFO : resetting layer weights\n",
      "2023-03-10 10:19:36,274 : INFO : Word2Vec lifecycle event {'update': False, 'trim_rule': 'None', 'datetime': '2023-03-10T10:19:36.273126', 'gensim': '4.3.1', 'python': '3.10.10 (tags/v3.10.10:aad5f6a, Feb  7 2023, 17:20:36) [MSC v.1929 64 bit (AMD64)]', 'platform': 'Windows-10-10.0.22621-SP0', 'event': 'build_vocab'}\n",
      "2023-03-10 10:19:36,274 : INFO : Word2Vec lifecycle event {'msg': 'training model with 10 workers on 70537 vocabulary and 150 features, using sg=1 hs=0 sample=0.001 negative=5 window=10 shrink_windows=True', 'datetime': '2023-03-10T10:19:36.274135', 'gensim': '4.3.1', 'python': '3.10.10 (tags/v3.10.10:aad5f6a, Feb  7 2023, 17:20:36) [MSC v.1929 64 bit (AMD64)]', 'platform': 'Windows-10-10.0.22621-SP0', 'event': 'train'}\n",
      "2023-03-10 10:19:37,284 : INFO : EPOCH 0 - PROGRESS: at 1.34% examples, 425872 words/s, in_qsize 19, out_qsize 0\n",
      "2023-03-10 10:19:38,284 : INFO : EPOCH 0 - PROGRESS: at 2.57% examples, 403492 words/s, in_qsize 19, out_qsize 0\n",
      "2023-03-10 10:19:39,315 : INFO : EPOCH 0 - PROGRESS: at 4.09% examples, 416518 words/s, in_qsize 19, out_qsize 0\n",
      "2023-03-10 10:19:40,318 : INFO : EPOCH 0 - PROGRESS: at 5.50% examples, 420113 words/s, in_qsize 19, out_qsize 0\n",
      "2023-03-10 10:19:41,323 : INFO : EPOCH 0 - PROGRESS: at 6.94% examples, 423489 words/s, in_qsize 19, out_qsize 0\n",
      "2023-03-10 10:19:42,334 : INFO : EPOCH 0 - PROGRESS: at 8.23% examples, 421558 words/s, in_qsize 19, out_qsize 0\n",
      "2023-03-10 10:19:43,353 : INFO : EPOCH 0 - PROGRESS: at 9.52% examples, 421820 words/s, in_qsize 19, out_qsize 0\n",
      "2023-03-10 10:19:44,383 : INFO : EPOCH 0 - PROGRESS: at 10.62% examples, 419763 words/s, in_qsize 19, out_qsize 0\n",
      "2023-03-10 10:19:45,383 : INFO : EPOCH 0 - PROGRESS: at 11.72% examples, 421792 words/s, in_qsize 19, out_qsize 0\n",
      "2023-03-10 10:19:46,403 : INFO : EPOCH 0 - PROGRESS: at 12.94% examples, 421839 words/s, in_qsize 20, out_qsize 0\n",
      "2023-03-10 10:19:47,467 : INFO : EPOCH 0 - PROGRESS: at 14.24% examples, 420937 words/s, in_qsize 19, out_qsize 0\n",
      "2023-03-10 10:19:48,468 : INFO : EPOCH 0 - PROGRESS: at 15.51% examples, 421307 words/s, in_qsize 19, out_qsize 0\n",
      "2023-03-10 10:19:49,488 : INFO : EPOCH 0 - PROGRESS: at 16.69% examples, 420980 words/s, in_qsize 19, out_qsize 0\n",
      "2023-03-10 10:19:50,490 : INFO : EPOCH 0 - PROGRESS: at 17.81% examples, 420742 words/s, in_qsize 19, out_qsize 0\n",
      "2023-03-10 10:19:51,493 : INFO : EPOCH 0 - PROGRESS: at 18.99% examples, 421678 words/s, in_qsize 20, out_qsize 0\n",
      "2023-03-10 10:19:52,520 : INFO : EPOCH 0 - PROGRESS: at 20.11% examples, 422299 words/s, in_qsize 19, out_qsize 0\n",
      "2023-03-10 10:19:53,526 : INFO : EPOCH 0 - PROGRESS: at 21.45% examples, 421328 words/s, in_qsize 19, out_qsize 0\n",
      "2023-03-10 10:19:54,537 : INFO : EPOCH 0 - PROGRESS: at 22.52% examples, 420038 words/s, in_qsize 19, out_qsize 0\n",
      "2023-03-10 10:19:55,545 : INFO : EPOCH 0 - PROGRESS: at 23.57% examples, 419769 words/s, in_qsize 19, out_qsize 0\n",
      "2023-03-10 10:19:56,583 : INFO : EPOCH 0 - PROGRESS: at 24.72% examples, 419556 words/s, in_qsize 19, out_qsize 0\n",
      "2023-03-10 10:19:57,614 : INFO : EPOCH 0 - PROGRESS: at 26.45% examples, 420578 words/s, in_qsize 19, out_qsize 0\n",
      "2023-03-10 10:19:58,618 : INFO : EPOCH 0 - PROGRESS: at 27.99% examples, 420088 words/s, in_qsize 19, out_qsize 0\n",
      "2023-03-10 10:19:59,625 : INFO : EPOCH 0 - PROGRESS: at 29.50% examples, 420502 words/s, in_qsize 19, out_qsize 0\n",
      "2023-03-10 10:20:00,642 : INFO : EPOCH 0 - PROGRESS: at 31.06% examples, 420783 words/s, in_qsize 19, out_qsize 0\n",
      "2023-03-10 10:20:01,665 : INFO : EPOCH 0 - PROGRESS: at 32.64% examples, 420794 words/s, in_qsize 19, out_qsize 0\n",
      "2023-03-10 10:20:02,685 : INFO : EPOCH 0 - PROGRESS: at 33.98% examples, 420118 words/s, in_qsize 19, out_qsize 0\n",
      "2023-03-10 10:20:03,697 : INFO : EPOCH 0 - PROGRESS: at 35.46% examples, 419932 words/s, in_qsize 19, out_qsize 0\n",
      "2023-03-10 10:20:04,733 : INFO : EPOCH 0 - PROGRESS: at 36.95% examples, 419606 words/s, in_qsize 19, out_qsize 0\n",
      "2023-03-10 10:20:05,743 : INFO : EPOCH 0 - PROGRESS: at 38.50% examples, 419863 words/s, in_qsize 19, out_qsize 0\n",
      "2023-03-10 10:20:06,747 : INFO : EPOCH 0 - PROGRESS: at 39.98% examples, 419989 words/s, in_qsize 19, out_qsize 0\n",
      "2023-03-10 10:20:07,765 : INFO : EPOCH 0 - PROGRESS: at 41.63% examples, 419951 words/s, in_qsize 19, out_qsize 0\n",
      "2023-03-10 10:20:08,781 : INFO : EPOCH 0 - PROGRESS: at 42.97% examples, 418993 words/s, in_qsize 19, out_qsize 0\n",
      "2023-03-10 10:20:09,797 : INFO : EPOCH 0 - PROGRESS: at 44.57% examples, 418791 words/s, in_qsize 19, out_qsize 0\n",
      "2023-03-10 10:20:10,804 : INFO : EPOCH 0 - PROGRESS: at 46.12% examples, 418906 words/s, in_qsize 19, out_qsize 0\n",
      "2023-03-10 10:20:11,807 : INFO : EPOCH 0 - PROGRESS: at 47.51% examples, 419015 words/s, in_qsize 19, out_qsize 0\n",
      "2023-03-10 10:20:12,827 : INFO : EPOCH 0 - PROGRESS: at 48.97% examples, 418565 words/s, in_qsize 19, out_qsize 0\n",
      "2023-03-10 10:20:13,837 : INFO : EPOCH 0 - PROGRESS: at 50.44% examples, 418625 words/s, in_qsize 19, out_qsize 0\n",
      "2023-03-10 10:20:14,837 : INFO : EPOCH 0 - PROGRESS: at 51.83% examples, 418377 words/s, in_qsize 19, out_qsize 0\n",
      "2023-03-10 10:20:15,843 : INFO : EPOCH 0 - PROGRESS: at 53.13% examples, 418272 words/s, in_qsize 19, out_qsize 0\n",
      "2023-03-10 10:20:16,866 : INFO : EPOCH 0 - PROGRESS: at 54.59% examples, 418441 words/s, in_qsize 19, out_qsize 0\n",
      "2023-03-10 10:20:17,869 : INFO : EPOCH 0 - PROGRESS: at 56.16% examples, 418591 words/s, in_qsize 19, out_qsize 0\n",
      "2023-03-10 10:20:18,882 : INFO : EPOCH 0 - PROGRESS: at 57.63% examples, 418673 words/s, in_qsize 19, out_qsize 0\n",
      "2023-03-10 10:20:19,900 : INFO : EPOCH 0 - PROGRESS: at 59.02% examples, 418147 words/s, in_qsize 19, out_qsize 0\n",
      "2023-03-10 10:20:20,900 : INFO : EPOCH 0 - PROGRESS: at 60.46% examples, 418213 words/s, in_qsize 19, out_qsize 0\n",
      "2023-03-10 10:20:21,916 : INFO : EPOCH 0 - PROGRESS: at 61.89% examples, 418111 words/s, in_qsize 19, out_qsize 0\n",
      "2023-03-10 10:20:22,956 : INFO : EPOCH 0 - PROGRESS: at 63.47% examples, 418083 words/s, in_qsize 19, out_qsize 0\n",
      "2023-03-10 10:20:23,985 : INFO : EPOCH 0 - PROGRESS: at 65.09% examples, 418106 words/s, in_qsize 19, out_qsize 0\n",
      "2023-03-10 10:20:24,992 : INFO : EPOCH 0 - PROGRESS: at 66.45% examples, 418297 words/s, in_qsize 19, out_qsize 0\n",
      "2023-03-10 10:20:26,000 : INFO : EPOCH 0 - PROGRESS: at 67.88% examples, 418192 words/s, in_qsize 19, out_qsize 0\n",
      "2023-03-10 10:20:27,009 : INFO : EPOCH 0 - PROGRESS: at 69.19% examples, 417669 words/s, in_qsize 19, out_qsize 0\n",
      "2023-03-10 10:20:28,012 : INFO : EPOCH 0 - PROGRESS: at 70.25% examples, 416240 words/s, in_qsize 20, out_qsize 0\n",
      "2023-03-10 10:20:29,052 : INFO : EPOCH 0 - PROGRESS: at 71.40% examples, 414483 words/s, in_qsize 19, out_qsize 0\n",
      "2023-03-10 10:20:30,070 : INFO : EPOCH 0 - PROGRESS: at 72.67% examples, 413614 words/s, in_qsize 19, out_qsize 0\n",
      "2023-03-10 10:20:31,079 : INFO : EPOCH 0 - PROGRESS: at 74.07% examples, 412955 words/s, in_qsize 20, out_qsize 0\n",
      "2023-03-10 10:20:32,093 : INFO : EPOCH 0 - PROGRESS: at 75.15% examples, 411638 words/s, in_qsize 19, out_qsize 0\n",
      "2023-03-10 10:20:33,097 : INFO : EPOCH 0 - PROGRESS: at 76.20% examples, 410336 words/s, in_qsize 19, out_qsize 0\n",
      "2023-03-10 10:20:34,115 : INFO : EPOCH 0 - PROGRESS: at 77.27% examples, 408951 words/s, in_qsize 19, out_qsize 0\n",
      "2023-03-10 10:20:35,119 : INFO : EPOCH 0 - PROGRESS: at 78.54% examples, 408818 words/s, in_qsize 19, out_qsize 0\n",
      "2023-03-10 10:20:36,122 : INFO : EPOCH 0 - PROGRESS: at 79.80% examples, 408345 words/s, in_qsize 19, out_qsize 0\n",
      "2023-03-10 10:20:37,129 : INFO : EPOCH 0 - PROGRESS: at 81.15% examples, 408566 words/s, in_qsize 19, out_qsize 0\n",
      "2023-03-10 10:20:38,144 : INFO : EPOCH 0 - PROGRESS: at 82.52% examples, 408393 words/s, in_qsize 19, out_qsize 0\n",
      "2023-03-10 10:20:39,145 : INFO : EPOCH 0 - PROGRESS: at 83.89% examples, 408405 words/s, in_qsize 19, out_qsize 0\n",
      "2023-03-10 10:20:40,158 : INFO : EPOCH 0 - PROGRESS: at 85.17% examples, 408454 words/s, in_qsize 19, out_qsize 0\n",
      "2023-03-10 10:20:41,161 : INFO : EPOCH 0 - PROGRESS: at 86.66% examples, 408683 words/s, in_qsize 19, out_qsize 0\n",
      "2023-03-10 10:20:42,179 : INFO : EPOCH 0 - PROGRESS: at 88.16% examples, 408710 words/s, in_qsize 19, out_qsize 0\n",
      "2023-03-10 10:20:43,184 : INFO : EPOCH 0 - PROGRESS: at 89.63% examples, 408742 words/s, in_qsize 19, out_qsize 0\n",
      "2023-03-10 10:20:44,185 : INFO : EPOCH 0 - PROGRESS: at 91.08% examples, 408778 words/s, in_qsize 20, out_qsize 1\n",
      "2023-03-10 10:20:45,220 : INFO : EPOCH 0 - PROGRESS: at 92.57% examples, 408912 words/s, in_qsize 19, out_qsize 0\n",
      "2023-03-10 10:20:46,221 : INFO : EPOCH 0 - PROGRESS: at 93.93% examples, 408834 words/s, in_qsize 19, out_qsize 0\n",
      "2023-03-10 10:20:47,251 : INFO : EPOCH 0 - PROGRESS: at 95.44% examples, 409022 words/s, in_qsize 19, out_qsize 0\n",
      "2023-03-10 10:20:48,253 : INFO : EPOCH 0 - PROGRESS: at 96.82% examples, 409035 words/s, in_qsize 19, out_qsize 0\n",
      "2023-03-10 10:20:49,266 : INFO : EPOCH 0 - PROGRESS: at 98.26% examples, 409071 words/s, in_qsize 19, out_qsize 0\n",
      "2023-03-10 10:20:50,280 : INFO : EPOCH 0 - PROGRESS: at 99.65% examples, 408839 words/s, in_qsize 14, out_qsize 0\n",
      "2023-03-10 10:20:50,454 : INFO : EPOCH 0: training on 41519359 raw words (30350665 effective words) took 74.2s, 409192 effective words/s\n",
      "2023-03-10 10:20:51,464 : INFO : EPOCH 1 - PROGRESS: at 1.11% examples, 360444 words/s, in_qsize 19, out_qsize 0\n",
      "2023-03-10 10:20:52,467 : INFO : EPOCH 1 - PROGRESS: at 2.43% examples, 384944 words/s, in_qsize 19, out_qsize 0\n",
      "2023-03-10 10:20:53,482 : INFO : EPOCH 1 - PROGRESS: at 3.70% examples, 379779 words/s, in_qsize 19, out_qsize 0\n",
      "2023-03-10 10:20:54,520 : INFO : EPOCH 1 - PROGRESS: at 5.01% examples, 380644 words/s, in_qsize 19, out_qsize 0\n",
      "2023-03-10 10:20:55,520 : INFO : EPOCH 1 - PROGRESS: at 6.20% examples, 377750 words/s, in_qsize 19, out_qsize 0\n",
      "2023-03-10 10:20:56,569 : INFO : EPOCH 1 - PROGRESS: at 7.52% examples, 379909 words/s, in_qsize 19, out_qsize 0\n",
      "2023-03-10 10:20:57,589 : INFO : EPOCH 1 - PROGRESS: at 8.82% examples, 384040 words/s, in_qsize 19, out_qsize 0\n",
      "2023-03-10 10:20:58,594 : INFO : EPOCH 1 - PROGRESS: at 9.85% examples, 384236 words/s, in_qsize 19, out_qsize 0\n",
      "2023-03-10 10:20:59,629 : INFO : EPOCH 1 - PROGRESS: at 10.90% examples, 383215 words/s, in_qsize 19, out_qsize 0\n",
      "2023-03-10 10:21:00,672 : INFO : EPOCH 1 - PROGRESS: at 11.99% examples, 384187 words/s, in_qsize 19, out_qsize 0\n",
      "2023-03-10 10:21:01,683 : INFO : EPOCH 1 - PROGRESS: at 13.05% examples, 383555 words/s, in_qsize 19, out_qsize 0\n",
      "2023-03-10 10:21:02,695 : INFO : EPOCH 1 - PROGRESS: at 14.24% examples, 384751 words/s, in_qsize 19, out_qsize 0\n",
      "2023-03-10 10:21:03,768 : INFO : EPOCH 1 - PROGRESS: at 15.45% examples, 384124 words/s, in_qsize 19, out_qsize 0\n",
      "2023-03-10 10:21:04,786 : INFO : EPOCH 1 - PROGRESS: at 16.59% examples, 386036 words/s, in_qsize 19, out_qsize 0\n",
      "2023-03-10 10:21:05,827 : INFO : EPOCH 1 - PROGRESS: at 17.71% examples, 387111 words/s, in_qsize 19, out_qsize 0\n",
      "2023-03-10 10:21:06,833 : INFO : EPOCH 1 - PROGRESS: at 18.83% examples, 387415 words/s, in_qsize 19, out_qsize 0\n",
      "2023-03-10 10:21:07,863 : INFO : EPOCH 1 - PROGRESS: at 19.79% examples, 386741 words/s, in_qsize 20, out_qsize 0\n",
      "2023-03-10 10:21:08,869 : INFO : EPOCH 1 - PROGRESS: at 20.82% examples, 387836 words/s, in_qsize 19, out_qsize 0\n",
      "2023-03-10 10:21:09,921 : INFO : EPOCH 1 - PROGRESS: at 22.06% examples, 385156 words/s, in_qsize 20, out_qsize 0\n",
      "2023-03-10 10:21:10,923 : INFO : EPOCH 1 - PROGRESS: at 22.95% examples, 382491 words/s, in_qsize 20, out_qsize 0\n",
      "2023-03-10 10:21:11,929 : INFO : EPOCH 1 - PROGRESS: at 23.62% examples, 377300 words/s, in_qsize 19, out_qsize 0\n",
      "2023-03-10 10:21:12,945 : INFO : EPOCH 1 - PROGRESS: at 24.44% examples, 374297 words/s, in_qsize 19, out_qsize 0\n",
      "2023-03-10 10:21:13,992 : INFO : EPOCH 1 - PROGRESS: at 25.65% examples, 372338 words/s, in_qsize 19, out_qsize 0\n",
      "2023-03-10 10:21:14,992 : INFO : EPOCH 1 - PROGRESS: at 27.16% examples, 373669 words/s, in_qsize 19, out_qsize 0\n",
      "2023-03-10 10:21:16,021 : INFO : EPOCH 1 - PROGRESS: at 28.56% examples, 373615 words/s, in_qsize 19, out_qsize 0\n",
      "2023-03-10 10:21:17,023 : INFO : EPOCH 1 - PROGRESS: at 30.01% examples, 375210 words/s, in_qsize 19, out_qsize 0\n",
      "2023-03-10 10:21:18,025 : INFO : EPOCH 1 - PROGRESS: at 31.37% examples, 374454 words/s, in_qsize 19, out_qsize 0\n",
      "2023-03-10 10:21:19,102 : INFO : EPOCH 1 - PROGRESS: at 32.93% examples, 375442 words/s, in_qsize 19, out_qsize 0\n",
      "2023-03-10 10:21:20,114 : INFO : EPOCH 1 - PROGRESS: at 34.23% examples, 376293 words/s, in_qsize 19, out_qsize 0\n",
      "2023-03-10 10:21:21,118 : INFO : EPOCH 1 - PROGRESS: at 35.62% examples, 376940 words/s, in_qsize 19, out_qsize 0\n",
      "2023-03-10 10:21:22,122 : INFO : EPOCH 1 - PROGRESS: at 36.97% examples, 377282 words/s, in_qsize 19, out_qsize 0\n",
      "2023-03-10 10:21:23,142 : INFO : EPOCH 1 - PROGRESS: at 38.48% examples, 378255 words/s, in_qsize 19, out_qsize 0\n",
      "2023-03-10 10:21:24,147 : INFO : EPOCH 1 - PROGRESS: at 39.79% examples, 378328 words/s, in_qsize 19, out_qsize 0\n",
      "2023-03-10 10:21:25,154 : INFO : EPOCH 1 - PROGRESS: at 41.33% examples, 379005 words/s, in_qsize 19, out_qsize 0\n",
      "2023-03-10 10:21:26,191 : INFO : EPOCH 1 - PROGRESS: at 42.73% examples, 379251 words/s, in_qsize 19, out_qsize 0\n",
      "2023-03-10 10:21:27,207 : INFO : EPOCH 1 - PROGRESS: at 44.32% examples, 380184 words/s, in_qsize 19, out_qsize 0\n",
      "2023-03-10 10:21:28,221 : INFO : EPOCH 1 - PROGRESS: at 45.64% examples, 379483 words/s, in_qsize 19, out_qsize 0\n",
      "2023-03-10 10:21:29,229 : INFO : EPOCH 1 - PROGRESS: at 46.91% examples, 379451 words/s, in_qsize 19, out_qsize 0\n",
      "2023-03-10 10:21:30,250 : INFO : EPOCH 1 - PROGRESS: at 48.28% examples, 379692 words/s, in_qsize 19, out_qsize 0\n",
      "2023-03-10 10:21:31,261 : INFO : EPOCH 1 - PROGRESS: at 49.70% examples, 380167 words/s, in_qsize 19, out_qsize 0\n",
      "2023-03-10 10:21:32,288 : INFO : EPOCH 1 - PROGRESS: at 51.02% examples, 379786 words/s, in_qsize 19, out_qsize 0\n",
      "2023-03-10 10:21:33,324 : INFO : EPOCH 1 - PROGRESS: at 52.25% examples, 379298 words/s, in_qsize 19, out_qsize 0\n",
      "2023-03-10 10:21:34,332 : INFO : EPOCH 1 - PROGRESS: at 53.48% examples, 379596 words/s, in_qsize 19, out_qsize 0\n",
      "2023-03-10 10:21:35,335 : INFO : EPOCH 1 - PROGRESS: at 54.82% examples, 379993 words/s, in_qsize 19, out_qsize 0\n",
      "2023-03-10 10:21:36,363 : INFO : EPOCH 1 - PROGRESS: at 56.29% examples, 380144 words/s, in_qsize 19, out_qsize 0\n",
      "2023-03-10 10:21:37,371 : INFO : EPOCH 1 - PROGRESS: at 57.67% examples, 380463 words/s, in_qsize 19, out_qsize 0\n",
      "2023-03-10 10:21:38,413 : INFO : EPOCH 1 - PROGRESS: at 59.01% examples, 380306 words/s, in_qsize 19, out_qsize 0\n",
      "2023-03-10 10:21:39,466 : INFO : EPOCH 1 - PROGRESS: at 60.32% examples, 379985 words/s, in_qsize 19, out_qsize 0\n",
      "2023-03-10 10:21:40,469 : INFO : EPOCH 1 - PROGRESS: at 61.57% examples, 379609 words/s, in_qsize 19, out_qsize 0\n",
      "2023-03-10 10:21:41,518 : INFO : EPOCH 1 - PROGRESS: at 63.00% examples, 379868 words/s, in_qsize 19, out_qsize 0\n",
      "2023-03-10 10:21:42,524 : INFO : EPOCH 1 - PROGRESS: at 64.59% examples, 380149 words/s, in_qsize 19, out_qsize 0\n",
      "2023-03-10 10:21:43,544 : INFO : EPOCH 1 - PROGRESS: at 65.77% examples, 380015 words/s, in_qsize 19, out_qsize 0\n",
      "2023-03-10 10:21:44,545 : INFO : EPOCH 1 - PROGRESS: at 67.02% examples, 379853 words/s, in_qsize 18, out_qsize 1\n",
      "2023-03-10 10:21:45,557 : INFO : EPOCH 1 - PROGRESS: at 68.40% examples, 380200 words/s, in_qsize 19, out_qsize 0\n",
      "2023-03-10 10:21:46,576 : INFO : EPOCH 1 - PROGRESS: at 69.77% examples, 380724 words/s, in_qsize 19, out_qsize 0\n",
      "2023-03-10 10:21:47,577 : INFO : EPOCH 1 - PROGRESS: at 70.95% examples, 380740 words/s, in_qsize 19, out_qsize 0\n",
      "2023-03-10 10:21:48,598 : INFO : EPOCH 1 - PROGRESS: at 72.12% examples, 380018 words/s, in_qsize 19, out_qsize 0\n",
      "2023-03-10 10:21:49,617 : INFO : EPOCH 1 - PROGRESS: at 73.67% examples, 380516 words/s, in_qsize 19, out_qsize 0\n",
      "2023-03-10 10:21:50,620 : INFO : EPOCH 1 - PROGRESS: at 74.91% examples, 380516 words/s, in_qsize 19, out_qsize 0\n",
      "2023-03-10 10:21:51,636 : INFO : EPOCH 1 - PROGRESS: at 76.15% examples, 380792 words/s, in_qsize 19, out_qsize 0\n",
      "2023-03-10 10:21:52,684 : INFO : EPOCH 1 - PROGRESS: at 77.46% examples, 381087 words/s, in_qsize 19, out_qsize 0\n",
      "2023-03-10 10:21:53,695 : INFO : EPOCH 1 - PROGRESS: at 78.77% examples, 381466 words/s, in_qsize 19, out_qsize 0\n",
      "2023-03-10 10:21:54,704 : INFO : EPOCH 1 - PROGRESS: at 80.04% examples, 381540 words/s, in_qsize 19, out_qsize 0\n",
      "2023-03-10 10:21:55,719 : INFO : EPOCH 1 - PROGRESS: at 81.35% examples, 381784 words/s, in_qsize 19, out_qsize 0\n",
      "2023-03-10 10:21:56,724 : INFO : EPOCH 1 - PROGRESS: at 82.71% examples, 381975 words/s, in_qsize 19, out_qsize 0\n",
      "2023-03-10 10:21:57,740 : INFO : EPOCH 1 - PROGRESS: at 83.83% examples, 381335 words/s, in_qsize 19, out_qsize 0\n",
      "2023-03-10 10:21:58,742 : INFO : EPOCH 1 - PROGRESS: at 84.91% examples, 380891 words/s, in_qsize 19, out_qsize 0\n",
      "2023-03-10 10:21:59,747 : INFO : EPOCH 1 - PROGRESS: at 86.22% examples, 380958 words/s, in_qsize 19, out_qsize 0\n",
      "2023-03-10 10:22:00,772 : INFO : EPOCH 1 - PROGRESS: at 87.77% examples, 381382 words/s, in_qsize 19, out_qsize 0\n",
      "2023-03-10 10:22:01,772 : INFO : EPOCH 1 - PROGRESS: at 89.23% examples, 381803 words/s, in_qsize 19, out_qsize 0\n",
      "2023-03-10 10:22:02,815 : INFO : EPOCH 1 - PROGRESS: at 90.70% examples, 382000 words/s, in_qsize 19, out_qsize 0\n",
      "2023-03-10 10:22:03,830 : INFO : EPOCH 1 - PROGRESS: at 92.04% examples, 382024 words/s, in_qsize 19, out_qsize 0\n",
      "2023-03-10 10:22:04,834 : INFO : EPOCH 1 - PROGRESS: at 93.29% examples, 382094 words/s, in_qsize 19, out_qsize 0\n",
      "2023-03-10 10:22:05,842 : INFO : EPOCH 1 - PROGRESS: at 94.60% examples, 381871 words/s, in_qsize 19, out_qsize 0\n",
      "2023-03-10 10:22:06,857 : INFO : EPOCH 1 - PROGRESS: at 96.01% examples, 382191 words/s, in_qsize 19, out_qsize 0\n",
      "2023-03-10 10:22:07,868 : INFO : EPOCH 1 - PROGRESS: at 97.38% examples, 382206 words/s, in_qsize 20, out_qsize 1\n",
      "2023-03-10 10:22:08,876 : INFO : EPOCH 1 - PROGRESS: at 98.59% examples, 381890 words/s, in_qsize 19, out_qsize 0\n",
      "2023-03-10 10:22:09,888 : INFO : EPOCH 1 - PROGRESS: at 99.84% examples, 381472 words/s, in_qsize 7, out_qsize 1\n",
      "2023-03-10 10:22:10,002 : INFO : EPOCH 1: training on 41519359 raw words (30346559 effective words) took 79.5s, 381519 effective words/s\n",
      "2023-03-10 10:22:11,114 : INFO : EPOCH 2 - PROGRESS: at 1.14% examples, 333841 words/s, in_qsize 19, out_qsize 0\n",
      "2023-03-10 10:22:12,223 : INFO : EPOCH 2 - PROGRESS: at 2.54% examples, 361546 words/s, in_qsize 19, out_qsize 0\n",
      "2023-03-10 10:22:13,229 : INFO : EPOCH 2 - PROGRESS: at 3.90% examples, 374174 words/s, in_qsize 19, out_qsize 0\n",
      "2023-03-10 10:22:14,279 : INFO : EPOCH 2 - PROGRESS: at 5.16% examples, 373402 words/s, in_qsize 19, out_qsize 0\n",
      "2023-03-10 10:22:15,281 : INFO : EPOCH 2 - PROGRESS: at 6.52% examples, 381431 words/s, in_qsize 19, out_qsize 0\n",
      "2023-03-10 10:22:16,295 : INFO : EPOCH 2 - PROGRESS: at 7.70% examples, 379370 words/s, in_qsize 19, out_qsize 0\n",
      "2023-03-10 10:22:17,311 : INFO : EPOCH 2 - PROGRESS: at 8.95% examples, 381742 words/s, in_qsize 19, out_qsize 0\n",
      "2023-03-10 10:22:18,328 : INFO : EPOCH 2 - PROGRESS: at 9.93% examples, 380814 words/s, in_qsize 19, out_qsize 0\n",
      "2023-03-10 10:22:19,356 : INFO : EPOCH 2 - PROGRESS: at 11.02% examples, 380501 words/s, in_qsize 19, out_qsize 0\n",
      "2023-03-10 10:22:20,366 : INFO : EPOCH 2 - PROGRESS: at 12.01% examples, 380191 words/s, in_qsize 19, out_qsize 0\n",
      "2023-03-10 10:22:21,376 : INFO : EPOCH 2 - PROGRESS: at 13.14% examples, 380639 words/s, in_qsize 19, out_qsize 0\n",
      "2023-03-10 10:22:22,399 : INFO : EPOCH 2 - PROGRESS: at 14.30% examples, 381675 words/s, in_qsize 19, out_qsize 0\n",
      "2023-03-10 10:22:23,425 : INFO : EPOCH 2 - PROGRESS: at 15.47% examples, 381565 words/s, in_qsize 19, out_qsize 0\n",
      "2023-03-10 10:22:24,448 : INFO : EPOCH 2 - PROGRESS: at 16.53% examples, 381019 words/s, in_qsize 19, out_qsize 0\n",
      "2023-03-10 10:22:25,474 : INFO : EPOCH 2 - PROGRESS: at 17.62% examples, 381835 words/s, in_qsize 19, out_qsize 0\n",
      "2023-03-10 10:22:26,485 : INFO : EPOCH 2 - PROGRESS: at 18.69% examples, 381946 words/s, in_qsize 19, out_qsize 0\n",
      "2023-03-10 10:22:27,490 : INFO : EPOCH 2 - PROGRESS: at 19.68% examples, 382497 words/s, in_qsize 19, out_qsize 0\n",
      "2023-03-10 10:22:28,521 : INFO : EPOCH 2 - PROGRESS: at 20.58% examples, 380930 words/s, in_qsize 19, out_qsize 0\n",
      "2023-03-10 10:22:29,548 : INFO : EPOCH 2 - PROGRESS: at 21.91% examples, 380646 words/s, in_qsize 19, out_qsize 0\n",
      "2023-03-10 10:22:30,590 : INFO : EPOCH 2 - PROGRESS: at 22.99% examples, 381322 words/s, in_qsize 19, out_qsize 0\n",
      "2023-03-10 10:22:31,618 : INFO : EPOCH 2 - PROGRESS: at 23.95% examples, 381156 words/s, in_qsize 19, out_qsize 0\n",
      "2023-03-10 10:22:32,621 : INFO : EPOCH 2 - PROGRESS: at 25.22% examples, 382068 words/s, in_qsize 19, out_qsize 0\n",
      "2023-03-10 10:22:33,658 : INFO : EPOCH 2 - PROGRESS: at 26.61% examples, 381188 words/s, in_qsize 19, out_qsize 0\n",
      "2023-03-10 10:22:34,664 : INFO : EPOCH 2 - PROGRESS: at 28.01% examples, 380874 words/s, in_qsize 19, out_qsize 0\n",
      "2023-03-10 10:22:35,665 : INFO : EPOCH 2 - PROGRESS: at 29.46% examples, 382007 words/s, in_qsize 19, out_qsize 0\n",
      "2023-03-10 10:22:36,665 : INFO : EPOCH 2 - PROGRESS: at 30.79% examples, 381790 words/s, in_qsize 19, out_qsize 0\n",
      "2023-03-10 10:22:37,672 : INFO : EPOCH 2 - PROGRESS: at 32.35% examples, 382990 words/s, in_qsize 19, out_qsize 0\n",
      "2023-03-10 10:22:38,688 : INFO : EPOCH 2 - PROGRESS: at 33.60% examples, 382237 words/s, in_qsize 19, out_qsize 0\n",
      "2023-03-10 10:22:39,716 : INFO : EPOCH 2 - PROGRESS: at 34.85% examples, 381701 words/s, in_qsize 19, out_qsize 0\n",
      "2023-03-10 10:22:40,763 : INFO : EPOCH 2 - PROGRESS: at 36.35% examples, 382282 words/s, in_qsize 19, out_qsize 0\n",
      "2023-03-10 10:22:41,772 : INFO : EPOCH 2 - PROGRESS: at 37.76% examples, 383073 words/s, in_qsize 19, out_qsize 0\n",
      "2023-03-10 10:22:42,779 : INFO : EPOCH 2 - PROGRESS: at 39.16% examples, 382944 words/s, in_qsize 19, out_qsize 0\n",
      "2023-03-10 10:22:43,789 : INFO : EPOCH 2 - PROGRESS: at 40.49% examples, 383011 words/s, in_qsize 19, out_qsize 0\n",
      "2023-03-10 10:22:44,835 : INFO : EPOCH 2 - PROGRESS: at 42.10% examples, 383309 words/s, in_qsize 19, out_qsize 0\n",
      "2023-03-10 10:22:45,840 : INFO : EPOCH 2 - PROGRESS: at 43.54% examples, 384237 words/s, in_qsize 19, out_qsize 0\n",
      "2023-03-10 10:22:46,880 : INFO : EPOCH 2 - PROGRESS: at 45.12% examples, 384725 words/s, in_qsize 19, out_qsize 0\n",
      "2023-03-10 10:22:47,901 : INFO : EPOCH 2 - PROGRESS: at 46.52% examples, 385027 words/s, in_qsize 19, out_qsize 0\n",
      "2023-03-10 10:22:48,935 : INFO : EPOCH 2 - PROGRESS: at 47.94% examples, 385705 words/s, in_qsize 19, out_qsize 0\n",
      "2023-03-10 10:22:49,970 : INFO : EPOCH 2 - PROGRESS: at 49.46% examples, 386169 words/s, in_qsize 19, out_qsize 0\n",
      "2023-03-10 10:22:50,977 : INFO : EPOCH 2 - PROGRESS: at 50.88% examples, 386714 words/s, in_qsize 19, out_qsize 0\n",
      "2023-03-10 10:22:51,995 : INFO : EPOCH 2 - PROGRESS: at 52.27% examples, 387411 words/s, in_qsize 19, out_qsize 0\n",
      "2023-03-10 10:22:53,007 : INFO : EPOCH 2 - PROGRESS: at 53.55% examples, 387827 words/s, in_qsize 19, out_qsize 0\n",
      "2023-03-10 10:22:54,015 : INFO : EPOCH 2 - PROGRESS: at 54.84% examples, 387675 words/s, in_qsize 19, out_qsize 0\n",
      "2023-03-10 10:22:55,030 : INFO : EPOCH 2 - PROGRESS: at 56.30% examples, 387596 words/s, in_qsize 19, out_qsize 0\n",
      "2023-03-10 10:22:56,055 : INFO : EPOCH 2 - PROGRESS: at 57.69% examples, 387775 words/s, in_qsize 19, out_qsize 0\n",
      "2023-03-10 10:22:57,090 : INFO : EPOCH 2 - PROGRESS: at 59.01% examples, 387375 words/s, in_qsize 20, out_qsize 0\n",
      "2023-03-10 10:22:58,098 : INFO : EPOCH 2 - PROGRESS: at 60.28% examples, 386941 words/s, in_qsize 19, out_qsize 0\n",
      "2023-03-10 10:22:59,140 : INFO : EPOCH 2 - PROGRESS: at 61.68% examples, 387140 words/s, in_qsize 19, out_qsize 0\n",
      "2023-03-10 10:23:00,164 : INFO : EPOCH 2 - PROGRESS: at 63.03% examples, 386875 words/s, in_qsize 19, out_qsize 0\n",
      "2023-03-10 10:23:01,203 : INFO : EPOCH 2 - PROGRESS: at 64.67% examples, 387059 words/s, in_qsize 19, out_qsize 0\n",
      "2023-03-10 10:23:02,207 : INFO : EPOCH 2 - PROGRESS: at 65.87% examples, 387042 words/s, in_qsize 19, out_qsize 0\n",
      "2023-03-10 10:23:03,242 : INFO : EPOCH 2 - PROGRESS: at 67.23% examples, 387050 words/s, in_qsize 19, out_qsize 0\n",
      "2023-03-10 10:23:04,276 : INFO : EPOCH 2 - PROGRESS: at 68.49% examples, 386571 words/s, in_qsize 19, out_qsize 0\n",
      "2023-03-10 10:23:05,289 : INFO : EPOCH 2 - PROGRESS: at 69.87% examples, 387031 words/s, in_qsize 19, out_qsize 0\n",
      "2023-03-10 10:23:06,320 : INFO : EPOCH 2 - PROGRESS: at 71.05% examples, 386865 words/s, in_qsize 19, out_qsize 0\n",
      "2023-03-10 10:23:07,327 : INFO : EPOCH 2 - PROGRESS: at 72.44% examples, 386993 words/s, in_qsize 19, out_qsize 0\n",
      "2023-03-10 10:23:08,327 : INFO : EPOCH 2 - PROGRESS: at 73.84% examples, 386883 words/s, in_qsize 19, out_qsize 0\n",
      "2023-03-10 10:23:09,339 : INFO : EPOCH 2 - PROGRESS: at 75.07% examples, 386724 words/s, in_qsize 19, out_qsize 0\n",
      "2023-03-10 10:23:10,341 : INFO : EPOCH 2 - PROGRESS: at 76.22% examples, 386522 words/s, in_qsize 19, out_qsize 0\n",
      "2023-03-10 10:23:11,354 : INFO : EPOCH 2 - PROGRESS: at 77.50% examples, 386831 words/s, in_qsize 19, out_qsize 0\n",
      "2023-03-10 10:23:12,373 : INFO : EPOCH 2 - PROGRESS: at 78.67% examples, 386266 words/s, in_qsize 19, out_qsize 0\n",
      "2023-03-10 10:23:13,431 : INFO : EPOCH 2 - PROGRESS: at 79.89% examples, 385739 words/s, in_qsize 19, out_qsize 0\n",
      "2023-03-10 10:23:14,431 : INFO : EPOCH 2 - PROGRESS: at 81.07% examples, 385549 words/s, in_qsize 19, out_qsize 0\n",
      "2023-03-10 10:23:15,480 : INFO : EPOCH 2 - PROGRESS: at 82.44% examples, 385541 words/s, in_qsize 19, out_qsize 0\n",
      "2023-03-10 10:23:16,499 : INFO : EPOCH 2 - PROGRESS: at 83.67% examples, 385152 words/s, in_qsize 19, out_qsize 0\n",
      "2023-03-10 10:23:17,501 : INFO : EPOCH 2 - PROGRESS: at 84.89% examples, 385278 words/s, in_qsize 19, out_qsize 0\n",
      "2023-03-10 10:23:18,504 : INFO : EPOCH 2 - PROGRESS: at 86.02% examples, 384560 words/s, in_qsize 19, out_qsize 0\n",
      "2023-03-10 10:23:19,516 : INFO : EPOCH 2 - PROGRESS: at 87.32% examples, 384150 words/s, in_qsize 19, out_qsize 0\n",
      "2023-03-10 10:23:20,520 : INFO : EPOCH 2 - PROGRESS: at 88.63% examples, 383715 words/s, in_qsize 19, out_qsize 0\n",
      "2023-03-10 10:23:21,535 : INFO : EPOCH 2 - PROGRESS: at 89.84% examples, 383221 words/s, in_qsize 19, out_qsize 0\n",
      "2023-03-10 10:23:22,553 : INFO : EPOCH 2 - PROGRESS: at 91.16% examples, 382926 words/s, in_qsize 20, out_qsize 0\n",
      "2023-03-10 10:23:23,562 : INFO : EPOCH 2 - PROGRESS: at 92.46% examples, 382781 words/s, in_qsize 19, out_qsize 0\n",
      "2023-03-10 10:23:24,565 : INFO : EPOCH 2 - PROGRESS: at 93.74% examples, 382848 words/s, in_qsize 19, out_qsize 0\n",
      "2023-03-10 10:23:25,601 : INFO : EPOCH 2 - PROGRESS: at 95.17% examples, 383053 words/s, in_qsize 19, out_qsize 0\n",
      "2023-03-10 10:23:26,635 : INFO : EPOCH 2 - PROGRESS: at 96.46% examples, 382791 words/s, in_qsize 19, out_qsize 0\n",
      "2023-03-10 10:23:27,641 : INFO : EPOCH 2 - PROGRESS: at 97.84% examples, 383001 words/s, in_qsize 18, out_qsize 1\n",
      "2023-03-10 10:23:28,685 : INFO : EPOCH 2 - PROGRESS: at 99.16% examples, 382699 words/s, in_qsize 19, out_qsize 0\n",
      "2023-03-10 10:23:29,256 : INFO : EPOCH 2: training on 41519359 raw words (30351696 effective words) took 79.3s, 382986 effective words/s\n",
      "2023-03-10 10:23:30,278 : INFO : EPOCH 3 - PROGRESS: at 1.11% examples, 356188 words/s, in_qsize 19, out_qsize 0\n",
      "2023-03-10 10:23:31,285 : INFO : EPOCH 3 - PROGRESS: at 2.35% examples, 367549 words/s, in_qsize 19, out_qsize 0\n",
      "2023-03-10 10:23:32,387 : INFO : EPOCH 3 - PROGRESS: at 3.73% examples, 369617 words/s, in_qsize 19, out_qsize 0\n",
      "2023-03-10 10:23:33,396 : INFO : EPOCH 3 - PROGRESS: at 5.05% examples, 377185 words/s, in_qsize 19, out_qsize 0\n",
      "2023-03-10 10:23:34,408 : INFO : EPOCH 3 - PROGRESS: at 6.28% examples, 376976 words/s, in_qsize 19, out_qsize 0\n",
      "2023-03-10 10:23:35,424 : INFO : EPOCH 3 - PROGRESS: at 7.58% examples, 380248 words/s, in_qsize 19, out_qsize 0\n",
      "2023-03-10 10:23:36,425 : INFO : EPOCH 3 - PROGRESS: at 8.81% examples, 381233 words/s, in_qsize 19, out_qsize 0\n",
      "2023-03-10 10:23:37,434 : INFO : EPOCH 3 - PROGRESS: at 9.85% examples, 382544 words/s, in_qsize 19, out_qsize 0\n",
      "2023-03-10 10:23:38,487 : INFO : EPOCH 3 - PROGRESS: at 10.92% examples, 381719 words/s, in_qsize 19, out_qsize 0\n",
      "2023-03-10 10:23:39,510 : INFO : EPOCH 3 - PROGRESS: at 12.00% examples, 383588 words/s, in_qsize 19, out_qsize 0\n",
      "2023-03-10 10:23:40,530 : INFO : EPOCH 3 - PROGRESS: at 13.11% examples, 383385 words/s, in_qsize 19, out_qsize 0\n",
      "2023-03-10 10:23:41,530 : INFO : EPOCH 3 - PROGRESS: at 14.32% examples, 386094 words/s, in_qsize 19, out_qsize 0\n",
      "2023-03-10 10:23:42,558 : INFO : EPOCH 3 - PROGRESS: at 15.58% examples, 387796 words/s, in_qsize 19, out_qsize 0\n",
      "2023-03-10 10:23:43,561 : INFO : EPOCH 3 - PROGRESS: at 16.64% examples, 387810 words/s, in_qsize 19, out_qsize 0\n",
      "2023-03-10 10:23:44,563 : INFO : EPOCH 3 - PROGRESS: at 17.71% examples, 388818 words/s, in_qsize 19, out_qsize 0\n",
      "2023-03-10 10:23:45,572 : INFO : EPOCH 3 - PROGRESS: at 18.90% examples, 390721 words/s, in_qsize 19, out_qsize 0\n",
      "2023-03-10 10:23:46,573 : INFO : EPOCH 3 - PROGRESS: at 19.89% examples, 390928 words/s, in_qsize 19, out_qsize 0\n",
      "2023-03-10 10:23:47,578 : INFO : EPOCH 3 - PROGRESS: at 20.87% examples, 391032 words/s, in_qsize 19, out_qsize 0\n",
      "2023-03-10 10:23:48,579 : INFO : EPOCH 3 - PROGRESS: at 22.24% examples, 391450 words/s, in_qsize 19, out_qsize 0\n",
      "2023-03-10 10:23:49,591 : INFO : EPOCH 3 - PROGRESS: at 23.27% examples, 391827 words/s, in_qsize 19, out_qsize 0\n",
      "2023-03-10 10:23:50,607 : INFO : EPOCH 3 - PROGRESS: at 24.32% examples, 392339 words/s, in_qsize 19, out_qsize 0\n",
      "2023-03-10 10:23:51,660 : INFO : EPOCH 3 - PROGRESS: at 25.77% examples, 392868 words/s, in_qsize 19, out_qsize 0\n",
      "2023-03-10 10:23:52,723 : INFO : EPOCH 3 - PROGRESS: at 27.37% examples, 393257 words/s, in_qsize 19, out_qsize 0\n",
      "2023-03-10 10:23:53,724 : INFO : EPOCH 3 - PROGRESS: at 28.90% examples, 394255 words/s, in_qsize 19, out_qsize 0\n",
      "2023-03-10 10:23:54,736 : INFO : EPOCH 3 - PROGRESS: at 30.26% examples, 394141 words/s, in_qsize 19, out_qsize 0\n",
      "2023-03-10 10:23:55,747 : INFO : EPOCH 3 - PROGRESS: at 31.88% examples, 394653 words/s, in_qsize 19, out_qsize 0\n",
      "2023-03-10 10:23:56,749 : INFO : EPOCH 3 - PROGRESS: at 33.28% examples, 395171 words/s, in_qsize 19, out_qsize 0\n",
      "2023-03-10 10:23:57,760 : INFO : EPOCH 3 - PROGRESS: at 34.60% examples, 395168 words/s, in_qsize 19, out_qsize 0\n",
      "2023-03-10 10:23:58,766 : INFO : EPOCH 3 - PROGRESS: at 35.99% examples, 395388 words/s, in_qsize 19, out_qsize 0\n",
      "2023-03-10 10:23:59,777 : INFO : EPOCH 3 - PROGRESS: at 37.40% examples, 395507 words/s, in_qsize 19, out_qsize 0\n",
      "2023-03-10 10:24:00,807 : INFO : EPOCH 3 - PROGRESS: at 38.91% examples, 395803 words/s, in_qsize 19, out_qsize 0\n",
      "2023-03-10 10:24:01,815 : INFO : EPOCH 3 - PROGRESS: at 40.41% examples, 396612 words/s, in_qsize 19, out_qsize 0\n",
      "2023-03-10 10:24:02,818 : INFO : EPOCH 3 - PROGRESS: at 41.92% examples, 396363 words/s, in_qsize 19, out_qsize 0\n",
      "2023-03-10 10:24:03,839 : INFO : EPOCH 3 - PROGRESS: at 43.31% examples, 396292 words/s, in_qsize 19, out_qsize 0\n",
      "2023-03-10 10:24:04,859 : INFO : EPOCH 3 - PROGRESS: at 44.89% examples, 396691 words/s, in_qsize 19, out_qsize 0\n",
      "2023-03-10 10:24:05,866 : INFO : EPOCH 3 - PROGRESS: at 46.36% examples, 397220 words/s, in_qsize 19, out_qsize 0\n",
      "2023-03-10 10:24:06,917 : INFO : EPOCH 3 - PROGRESS: at 47.60% examples, 396049 words/s, in_qsize 19, out_qsize 0\n",
      "2023-03-10 10:24:07,920 : INFO : EPOCH 3 - PROGRESS: at 49.12% examples, 396611 words/s, in_qsize 20, out_qsize 0\n",
      "2023-03-10 10:24:08,962 : INFO : EPOCH 3 - PROGRESS: at 50.55% examples, 396707 words/s, in_qsize 19, out_qsize 0\n",
      "2023-03-10 10:24:09,968 : INFO : EPOCH 3 - PROGRESS: at 51.83% examples, 396236 words/s, in_qsize 19, out_qsize 0\n",
      "2023-03-10 10:24:10,969 : INFO : EPOCH 3 - PROGRESS: at 53.13% examples, 396722 words/s, in_qsize 19, out_qsize 0\n",
      "2023-03-10 10:24:11,975 : INFO : EPOCH 3 - PROGRESS: at 54.42% examples, 396355 words/s, in_qsize 19, out_qsize 0\n",
      "2023-03-10 10:24:13,041 : INFO : EPOCH 3 - PROGRESS: at 55.97% examples, 396290 words/s, in_qsize 19, out_qsize 0\n",
      "2023-03-10 10:24:14,126 : INFO : EPOCH 3 - PROGRESS: at 57.44% examples, 396216 words/s, in_qsize 19, out_qsize 0\n",
      "2023-03-10 10:24:15,180 : INFO : EPOCH 3 - PROGRESS: at 58.91% examples, 396533 words/s, in_qsize 19, out_qsize 0\n",
      "2023-03-10 10:24:16,189 : INFO : EPOCH 3 - PROGRESS: at 60.35% examples, 396993 words/s, in_qsize 19, out_qsize 0\n",
      "2023-03-10 10:24:17,203 : INFO : EPOCH 3 - PROGRESS: at 61.77% examples, 397201 words/s, in_qsize 19, out_qsize 0\n",
      "2023-03-10 10:24:18,205 : INFO : EPOCH 3 - PROGRESS: at 63.11% examples, 396885 words/s, in_qsize 19, out_qsize 0\n",
      "2023-03-10 10:24:19,215 : INFO : EPOCH 3 - PROGRESS: at 64.71% examples, 396942 words/s, in_qsize 19, out_qsize 0\n",
      "2023-03-10 10:24:20,230 : INFO : EPOCH 3 - PROGRESS: at 65.98% examples, 397062 words/s, in_qsize 19, out_qsize 0\n",
      "2023-03-10 10:24:21,246 : INFO : EPOCH 3 - PROGRESS: at 67.38% examples, 397138 words/s, in_qsize 19, out_qsize 0\n",
      "2023-03-10 10:24:22,252 : INFO : EPOCH 3 - PROGRESS: at 68.80% examples, 397502 words/s, in_qsize 19, out_qsize 0\n",
      "2023-03-10 10:24:23,267 : INFO : EPOCH 3 - PROGRESS: at 70.00% examples, 397219 words/s, in_qsize 19, out_qsize 0\n",
      "2023-03-10 10:24:24,271 : INFO : EPOCH 3 - PROGRESS: at 71.34% examples, 397322 words/s, in_qsize 19, out_qsize 0\n",
      "2023-03-10 10:24:25,274 : INFO : EPOCH 3 - PROGRESS: at 72.72% examples, 397416 words/s, in_qsize 19, out_qsize 0\n",
      "2023-03-10 10:24:26,325 : INFO : EPOCH 3 - PROGRESS: at 74.22% examples, 397419 words/s, in_qsize 19, out_qsize 0\n",
      "2023-03-10 10:24:27,339 : INFO : EPOCH 3 - PROGRESS: at 75.56% examples, 397807 words/s, in_qsize 19, out_qsize 0\n",
      "2023-03-10 10:24:28,341 : INFO : EPOCH 3 - PROGRESS: at 76.75% examples, 397502 words/s, in_qsize 19, out_qsize 0\n",
      "2023-03-10 10:24:29,341 : INFO : EPOCH 3 - PROGRESS: at 78.03% examples, 397814 words/s, in_qsize 19, out_qsize 0\n",
      "2023-03-10 10:24:30,360 : INFO : EPOCH 3 - PROGRESS: at 79.36% examples, 397670 words/s, in_qsize 19, out_qsize 0\n",
      "2023-03-10 10:24:31,369 : INFO : EPOCH 3 - PROGRESS: at 80.66% examples, 397817 words/s, in_qsize 19, out_qsize 0\n",
      "2023-03-10 10:24:32,372 : INFO : EPOCH 3 - PROGRESS: at 81.99% examples, 397763 words/s, in_qsize 19, out_qsize 0\n",
      "2023-03-10 10:24:33,395 : INFO : EPOCH 3 - PROGRESS: at 83.35% examples, 397718 words/s, in_qsize 19, out_qsize 0\n",
      "2023-03-10 10:24:34,405 : INFO : EPOCH 3 - PROGRESS: at 84.59% examples, 397729 words/s, in_qsize 19, out_qsize 0\n",
      "2023-03-10 10:24:35,413 : INFO : EPOCH 3 - PROGRESS: at 85.96% examples, 397856 words/s, in_qsize 19, out_qsize 0\n",
      "2023-03-10 10:24:36,433 : INFO : EPOCH 3 - PROGRESS: at 87.37% examples, 397715 words/s, in_qsize 19, out_qsize 0\n",
      "2023-03-10 10:24:37,440 : INFO : EPOCH 3 - PROGRESS: at 88.91% examples, 397998 words/s, in_qsize 19, out_qsize 0\n",
      "2023-03-10 10:24:38,446 : INFO : EPOCH 3 - PROGRESS: at 90.34% examples, 398156 words/s, in_qsize 19, out_qsize 0\n",
      "2023-03-10 10:24:39,460 : INFO : EPOCH 3 - PROGRESS: at 91.71% examples, 397963 words/s, in_qsize 19, out_qsize 0\n",
      "2023-03-10 10:24:40,490 : INFO : EPOCH 3 - PROGRESS: at 93.06% examples, 397973 words/s, in_qsize 19, out_qsize 0\n",
      "2023-03-10 10:24:41,498 : INFO : EPOCH 3 - PROGRESS: at 94.52% examples, 398223 words/s, in_qsize 19, out_qsize 0\n",
      "2023-03-10 10:24:42,514 : INFO : EPOCH 3 - PROGRESS: at 95.91% examples, 398229 words/s, in_qsize 19, out_qsize 0\n",
      "2023-03-10 10:24:43,529 : INFO : EPOCH 3 - PROGRESS: at 97.35% examples, 398297 words/s, in_qsize 19, out_qsize 0\n",
      "2023-03-10 10:24:44,541 : INFO : EPOCH 3 - PROGRESS: at 98.69% examples, 398208 words/s, in_qsize 19, out_qsize 0\n",
      "2023-03-10 10:24:45,402 : INFO : EPOCH 3: training on 41519359 raw words (30348171 effective words) took 76.1s, 398580 effective words/s\n",
      "2023-03-10 10:24:46,471 : INFO : EPOCH 4 - PROGRESS: at 1.14% examples, 347359 words/s, in_qsize 19, out_qsize 0\n",
      "2023-03-10 10:24:47,512 : INFO : EPOCH 4 - PROGRESS: at 2.49% examples, 374047 words/s, in_qsize 19, out_qsize 0\n",
      "2023-03-10 10:24:48,519 : INFO : EPOCH 4 - PROGRESS: at 3.79% examples, 378117 words/s, in_qsize 19, out_qsize 0\n",
      "2023-03-10 10:24:49,531 : INFO : EPOCH 4 - PROGRESS: at 5.14% examples, 385169 words/s, in_qsize 19, out_qsize 0\n",
      "2023-03-10 10:24:50,545 : INFO : EPOCH 4 - PROGRESS: at 6.43% examples, 385905 words/s, in_qsize 19, out_qsize 0\n",
      "2023-03-10 10:24:51,585 : INFO : EPOCH 4 - PROGRESS: at 7.75% examples, 388466 words/s, in_qsize 19, out_qsize 0\n",
      "2023-03-10 10:24:52,585 : INFO : EPOCH 4 - PROGRESS: at 8.97% examples, 389499 words/s, in_qsize 19, out_qsize 0\n",
      "2023-03-10 10:24:53,602 : INFO : EPOCH 4 - PROGRESS: at 10.04% examples, 390267 words/s, in_qsize 19, out_qsize 0\n",
      "2023-03-10 10:24:54,659 : INFO : EPOCH 4 - PROGRESS: at 11.11% examples, 388432 words/s, in_qsize 19, out_qsize 0\n",
      "2023-03-10 10:24:55,713 : INFO : EPOCH 4 - PROGRESS: at 12.21% examples, 390500 words/s, in_qsize 20, out_qsize 0\n",
      "2023-03-10 10:24:56,733 : INFO : EPOCH 4 - PROGRESS: at 13.43% examples, 389703 words/s, in_qsize 19, out_qsize 0\n",
      "2023-03-10 10:24:57,783 : INFO : EPOCH 4 - PROGRESS: at 14.58% examples, 389713 words/s, in_qsize 19, out_qsize 0\n",
      "2023-03-10 10:24:58,796 : INFO : EPOCH 4 - PROGRESS: at 15.69% examples, 387269 words/s, in_qsize 19, out_qsize 0\n",
      "2023-03-10 10:24:59,826 : INFO : EPOCH 4 - PROGRESS: at 16.53% examples, 381565 words/s, in_qsize 19, out_qsize 0\n",
      "2023-03-10 10:25:00,827 : INFO : EPOCH 4 - PROGRESS: at 17.49% examples, 380201 words/s, in_qsize 19, out_qsize 0\n",
      "2023-03-10 10:25:01,844 : INFO : EPOCH 4 - PROGRESS: at 18.56% examples, 379830 words/s, in_qsize 19, out_qsize 0\n",
      "2023-03-10 10:25:02,851 : INFO : EPOCH 4 - PROGRESS: at 19.55% examples, 380458 words/s, in_qsize 19, out_qsize 0\n",
      "2023-03-10 10:25:03,906 : INFO : EPOCH 4 - PROGRESS: at 20.51% examples, 378857 words/s, in_qsize 19, out_qsize 0\n",
      "2023-03-10 10:25:04,924 : INFO : EPOCH 4 - PROGRESS: at 21.84% examples, 379606 words/s, in_qsize 19, out_qsize 0\n",
      "2023-03-10 10:25:05,939 : INFO : EPOCH 4 - PROGRESS: at 22.86% examples, 379433 words/s, in_qsize 19, out_qsize 0\n",
      "2023-03-10 10:25:06,945 : INFO : EPOCH 4 - PROGRESS: at 23.83% examples, 380109 words/s, in_qsize 19, out_qsize 0\n",
      "2023-03-10 10:25:07,950 : INFO : EPOCH 4 - PROGRESS: at 24.75% examples, 378159 words/s, in_qsize 19, out_qsize 0\n",
      "2023-03-10 10:25:08,956 : INFO : EPOCH 4 - PROGRESS: at 26.01% examples, 376389 words/s, in_qsize 19, out_qsize 0\n",
      "2023-03-10 10:25:09,983 : INFO : EPOCH 4 - PROGRESS: at 27.41% examples, 375948 words/s, in_qsize 19, out_qsize 0\n",
      "2023-03-10 10:25:10,996 : INFO : EPOCH 4 - PROGRESS: at 28.83% examples, 376053 words/s, in_qsize 19, out_qsize 0\n",
      "2023-03-10 10:25:11,997 : INFO : EPOCH 4 - PROGRESS: at 30.17% examples, 376482 words/s, in_qsize 19, out_qsize 0\n",
      "2023-03-10 10:25:13,016 : INFO : EPOCH 4 - PROGRESS: at 31.57% examples, 375648 words/s, in_qsize 19, out_qsize 0\n",
      "2023-03-10 10:25:14,053 : INFO : EPOCH 4 - PROGRESS: at 32.94% examples, 375620 words/s, in_qsize 19, out_qsize 0\n",
      "2023-03-10 10:25:15,060 : INFO : EPOCH 4 - PROGRESS: at 34.30% examples, 376771 words/s, in_qsize 19, out_qsize 0\n",
      "2023-03-10 10:25:16,079 : INFO : EPOCH 4 - PROGRESS: at 35.70% examples, 377444 words/s, in_qsize 19, out_qsize 0\n",
      "2023-03-10 10:25:17,081 : INFO : EPOCH 4 - PROGRESS: at 37.14% examples, 378702 words/s, in_qsize 19, out_qsize 0\n",
      "2023-03-10 10:25:18,087 : INFO : EPOCH 4 - PROGRESS: at 38.55% examples, 378902 words/s, in_qsize 19, out_qsize 0\n",
      "2023-03-10 10:25:19,089 : INFO : EPOCH 4 - PROGRESS: at 39.94% examples, 379418 words/s, in_qsize 19, out_qsize 0\n",
      "2023-03-10 10:25:20,091 : INFO : EPOCH 4 - PROGRESS: at 41.44% examples, 379915 words/s, in_qsize 19, out_qsize 0\n",
      "2023-03-10 10:25:21,115 : INFO : EPOCH 4 - PROGRESS: at 42.82% examples, 380093 words/s, in_qsize 19, out_qsize 0\n",
      "2023-03-10 10:25:22,139 : INFO : EPOCH 4 - PROGRESS: at 44.32% examples, 380310 words/s, in_qsize 19, out_qsize 0\n",
      "2023-03-10 10:25:23,140 : INFO : EPOCH 4 - PROGRESS: at 45.77% examples, 380724 words/s, in_qsize 19, out_qsize 0\n",
      "2023-03-10 10:25:24,142 : INFO : EPOCH 4 - PROGRESS: at 47.03% examples, 380720 words/s, in_qsize 19, out_qsize 0\n",
      "2023-03-10 10:25:25,149 : INFO : EPOCH 4 - PROGRESS: at 48.39% examples, 380882 words/s, in_qsize 19, out_qsize 0\n",
      "2023-03-10 10:25:26,199 : INFO : EPOCH 4 - PROGRESS: at 49.57% examples, 379204 words/s, in_qsize 19, out_qsize 0\n",
      "2023-03-10 10:25:27,222 : INFO : EPOCH 4 - PROGRESS: at 51.02% examples, 379918 words/s, in_qsize 19, out_qsize 0\n",
      "2023-03-10 10:25:28,247 : INFO : EPOCH 4 - PROGRESS: at 52.20% examples, 379198 words/s, in_qsize 19, out_qsize 0\n",
      "2023-03-10 10:25:29,252 : INFO : EPOCH 4 - PROGRESS: at 53.44% examples, 379535 words/s, in_qsize 19, out_qsize 0\n",
      "2023-03-10 10:25:30,263 : INFO : EPOCH 4 - PROGRESS: at 54.72% examples, 379545 words/s, in_qsize 19, out_qsize 0\n",
      "2023-03-10 10:25:31,286 : INFO : EPOCH 4 - PROGRESS: at 56.23% examples, 379896 words/s, in_qsize 19, out_qsize 0\n",
      "2023-03-10 10:25:32,296 : INFO : EPOCH 4 - PROGRESS: at 57.52% examples, 379576 words/s, in_qsize 19, out_qsize 0\n",
      "2023-03-10 10:25:33,306 : INFO : EPOCH 4 - PROGRESS: at 58.84% examples, 379698 words/s, in_qsize 19, out_qsize 0\n",
      "2023-03-10 10:25:34,316 : INFO : EPOCH 4 - PROGRESS: at 60.05% examples, 379119 words/s, in_qsize 19, out_qsize 0\n",
      "2023-03-10 10:25:35,330 : INFO : EPOCH 4 - PROGRESS: at 61.42% examples, 379409 words/s, in_qsize 19, out_qsize 0\n",
      "2023-03-10 10:25:36,342 : INFO : EPOCH 4 - PROGRESS: at 62.73% examples, 379245 words/s, in_qsize 19, out_qsize 0\n",
      "2023-03-10 10:25:37,360 : INFO : EPOCH 4 - PROGRESS: at 64.33% examples, 379749 words/s, in_qsize 19, out_qsize 0\n",
      "2023-03-10 10:25:38,398 : INFO : EPOCH 4 - PROGRESS: at 65.63% examples, 379754 words/s, in_qsize 19, out_qsize 0\n",
      "2023-03-10 10:25:39,403 : INFO : EPOCH 4 - PROGRESS: at 66.97% examples, 380226 words/s, in_qsize 19, out_qsize 0\n",
      "2023-03-10 10:25:40,428 : INFO : EPOCH 4 - PROGRESS: at 68.31% examples, 380212 words/s, in_qsize 19, out_qsize 0\n",
      "2023-03-10 10:25:41,430 : INFO : EPOCH 4 - PROGRESS: at 69.61% examples, 380599 words/s, in_qsize 19, out_qsize 0\n",
      "2023-03-10 10:25:42,436 : INFO : EPOCH 4 - PROGRESS: at 70.81% examples, 380470 words/s, in_qsize 19, out_qsize 0\n",
      "2023-03-10 10:25:43,439 : INFO : EPOCH 4 - PROGRESS: at 72.14% examples, 380861 words/s, in_qsize 19, out_qsize 0\n",
      "2023-03-10 10:25:44,442 : INFO : EPOCH 4 - PROGRESS: at 73.56% examples, 380847 words/s, in_qsize 19, out_qsize 0\n",
      "2023-03-10 10:25:45,458 : INFO : EPOCH 4 - PROGRESS: at 74.91% examples, 381238 words/s, in_qsize 19, out_qsize 0\n",
      "2023-03-10 10:25:46,465 : INFO : EPOCH 4 - PROGRESS: at 76.13% examples, 381425 words/s, in_qsize 19, out_qsize 0\n",
      "2023-03-10 10:25:47,510 : INFO : EPOCH 4 - PROGRESS: at 77.41% examples, 381617 words/s, in_qsize 19, out_qsize 0\n",
      "2023-03-10 10:25:48,535 : INFO : EPOCH 4 - PROGRESS: at 78.63% examples, 381344 words/s, in_qsize 19, out_qsize 0\n",
      "2023-03-10 10:25:49,549 : INFO : EPOCH 4 - PROGRESS: at 79.95% examples, 381720 words/s, in_qsize 19, out_qsize 0\n",
      "2023-03-10 10:25:50,563 : INFO : EPOCH 4 - PROGRESS: at 81.25% examples, 381963 words/s, in_qsize 19, out_qsize 0\n",
      "2023-03-10 10:25:51,568 : INFO : EPOCH 4 - PROGRESS: at 82.63% examples, 382267 words/s, in_qsize 19, out_qsize 0\n",
      "2023-03-10 10:25:52,585 : INFO : EPOCH 4 - PROGRESS: at 83.94% examples, 382375 words/s, in_qsize 19, out_qsize 0\n",
      "2023-03-10 10:25:53,604 : INFO : EPOCH 4 - PROGRESS: at 85.19% examples, 382651 words/s, in_qsize 19, out_qsize 0\n",
      "2023-03-10 10:25:54,631 : INFO : EPOCH 4 - PROGRESS: at 86.56% examples, 382588 words/s, in_qsize 19, out_qsize 0\n",
      "2023-03-10 10:25:55,647 : INFO : EPOCH 4 - PROGRESS: at 88.03% examples, 382806 words/s, in_qsize 19, out_qsize 0\n",
      "2023-03-10 10:25:56,655 : INFO : EPOCH 4 - PROGRESS: at 89.45% examples, 383075 words/s, in_qsize 19, out_qsize 0\n",
      "2023-03-10 10:25:57,672 : INFO : EPOCH 4 - PROGRESS: at 90.89% examples, 383282 words/s, in_qsize 19, out_qsize 0\n",
      "2023-03-10 10:25:58,684 : INFO : EPOCH 4 - PROGRESS: at 92.21% examples, 383114 words/s, in_qsize 19, out_qsize 0\n",
      "2023-03-10 10:25:59,762 : INFO : EPOCH 4 - PROGRESS: at 93.58% examples, 383178 words/s, in_qsize 19, out_qsize 0\n",
      "2023-03-10 10:26:00,764 : INFO : EPOCH 4 - PROGRESS: at 94.97% examples, 383452 words/s, in_qsize 19, out_qsize 0\n",
      "2023-03-10 10:26:01,769 : INFO : EPOCH 4 - PROGRESS: at 96.32% examples, 383619 words/s, in_qsize 19, out_qsize 0\n",
      "2023-03-10 10:26:02,800 : INFO : EPOCH 4 - PROGRESS: at 97.69% examples, 383685 words/s, in_qsize 19, out_qsize 0\n",
      "2023-03-10 10:26:03,803 : INFO : EPOCH 4 - PROGRESS: at 99.04% examples, 383580 words/s, in_qsize 19, out_qsize 0\n",
      "2023-03-10 10:26:04,461 : INFO : EPOCH 4: training on 41519359 raw words (30348295 effective words) took 79.1s, 383899 effective words/s\n",
      "2023-03-10 10:26:04,462 : INFO : Word2Vec lifecycle event {'msg': 'training on 207596795 raw words (151745386 effective words) took 388.2s, 390908 effective words/s', 'datetime': '2023-03-10T10:26:04.462218', 'gensim': '4.3.1', 'python': '3.10.10 (tags/v3.10.10:aad5f6a, Feb  7 2023, 17:20:36) [MSC v.1929 64 bit (AMD64)]', 'platform': 'Windows-10-10.0.22621-SP0', 'event': 'train'}\n",
      "2023-03-10 10:26:04,463 : INFO : Word2Vec lifecycle event {'params': 'Word2Vec<vocab=70537, vector_size=150, alpha=0.025>', 'datetime': '2023-03-10T10:26:04.463217', 'gensim': '4.3.1', 'python': '3.10.10 (tags/v3.10.10:aad5f6a, Feb  7 2023, 17:20:36) [MSC v.1929 64 bit (AMD64)]', 'platform': 'Windows-10-10.0.22621-SP0', 'event': 'created'}\n"
     ]
    },
    {
     "name": "stdout",
     "output_type": "stream",
     "text": [
      "Training time: 0:06:34.898447\n"
     ]
    }
   ],
   "source": [
    "from datetime import datetime\n",
    "\n",
    "start_time = datetime.now()\n",
    "\n",
    "model = gensim.models.Word2Vec(documents, vector_size=150, window=10, min_count=2, workers=10, sg=1)\n",
    "\n",
    "print(\"Training time:\", datetime.now() - start_time)"
   ]
  },
  {
   "cell_type": "markdown",
   "metadata": {},
   "source": [
    "#### Exploiting the Word2Vec model\n",
    "\n",
    "We can now inspect the word embeddings that we have trained. We can start by looking at the embeddings of a specific word:"
   ]
  },
  {
   "cell_type": "code",
   "execution_count": 7,
   "metadata": {},
   "outputs": [
    {
     "data": {
      "text/plain": [
       "array([ 0.22926371,  0.3134295 , -0.19635569,  0.2550687 , -0.2389467 ,\n",
       "        0.05885498, -0.01061613,  0.66899896, -0.1468168 , -0.14756215,\n",
       "        0.07037775, -0.11178203,  0.23972543,  0.25770277, -0.18889683,\n",
       "       -0.17204814,  0.20098296, -0.12558036,  0.43821666,  0.0313962 ,\n",
       "       -0.01924133,  0.0142962 ,  0.06171523, -0.1630914 ,  0.181136  ,\n",
       "       -0.26304832, -0.2622144 , -0.28801438, -0.37631455,  0.17287642,\n",
       "       -0.06097897,  0.2336987 ,  0.1266929 , -0.04433419, -0.2537205 ,\n",
       "        0.14452651,  0.0795166 , -0.18083951, -0.11884607, -0.0750713 ,\n",
       "       -0.20227344, -0.04775432, -0.2016035 , -0.17441012,  0.34650302,\n",
       "       -0.5813498 ,  0.2834644 , -0.10605569,  0.13181198, -0.19465488,\n",
       "       -0.37201098,  0.21255828, -0.34190685,  0.03179611,  0.062729  ,\n",
       "       -0.11296781, -0.07957854, -0.05660237, -0.15886748, -0.12961864,\n",
       "        0.02197186, -0.4009011 , -0.32315847,  0.18152854,  0.04621429,\n",
       "       -0.30774292, -0.39672896,  0.00242983, -0.30801547, -0.2632306 ,\n",
       "        0.1074764 ,  0.40220037,  0.01018662, -0.16668159, -0.04882722,\n",
       "       -0.05572267, -0.04956966,  0.01666419,  0.14070989,  0.09268339,\n",
       "        0.30686024, -0.7231867 , -0.25580496,  0.3355547 , -0.08037609,\n",
       "       -0.58121645,  0.20518938, -0.01868491,  0.5405739 ,  0.07488316,\n",
       "        0.13808016,  0.07813127,  0.3071438 ,  0.21894827, -0.00994011,\n",
       "        0.03764674, -0.02029243, -0.1469005 ,  0.03758928,  0.09200592,\n",
       "        0.35569027, -0.19899088,  0.5000782 , -0.0547482 ,  0.11598909,\n",
       "       -0.15554324,  0.14660007, -0.07735984, -0.34744307, -0.52194697,\n",
       "       -0.12766194,  0.2741902 ,  0.311597  , -0.30598894, -0.20529687,\n",
       "       -0.12635079,  0.08672388,  0.10474925,  0.09736302, -0.11007036,\n",
       "        0.03053748,  0.22693837, -0.08345576,  0.27704355,  0.0110127 ,\n",
       "        0.27579972, -0.18264164, -0.13106889,  0.23467317,  0.4200436 ,\n",
       "        0.47480682,  0.2499739 , -0.07529205,  0.07843567, -0.16319442,\n",
       "       -0.1627139 ,  0.00456879,  0.09107666,  0.1240776 , -0.09528089,\n",
       "       -0.16513622, -0.2785164 ,  0.4048459 , -0.25469887, -0.4670975 ,\n",
       "        0.14462754, -0.00945892, -0.1549701 ,  0.2629985 ,  0.15533955],\n",
       "      dtype=float32)"
      ]
     },
     "execution_count": 7,
     "metadata": {},
     "output_type": "execute_result"
    }
   ],
   "source": [
    "# embeddings\n",
    "model.wv.get_vector(\"dirty\")"
   ]
  },
  {
   "cell_type": "markdown",
   "metadata": {},
   "source": [
    "Which are the words most similar to this one?"
   ]
  },
  {
   "cell_type": "code",
   "execution_count": 8,
   "metadata": {},
   "outputs": [
    {
     "data": {
      "text/plain": [
       "[('filthy', 0.8842206597328186),\n",
       " ('smelly', 0.8528004288673401),\n",
       " ('unclean', 0.8439512848854065),\n",
       " ('stained', 0.8101839423179626),\n",
       " ('dingy', 0.8071838021278381),\n",
       " ('dusty', 0.8035001158714294),\n",
       " ('grubby', 0.7980098724365234),\n",
       " ('disgusting', 0.7963081002235413),\n",
       " ('grimy', 0.7880789637565613),\n",
       " ('soiled', 0.77813720703125)]"
      ]
     },
     "execution_count": 8,
     "metadata": {},
     "output_type": "execute_result"
    }
   ],
   "source": [
    "# similarity\n",
    "w1 = \"dirty\"\n",
    "model.wv.most_similar(positive=w1)"
   ]
  },
  {
   "cell_type": "markdown",
   "metadata": {},
   "source": [
    "You can also limit to a smaller number of hits:"
   ]
  },
  {
   "cell_type": "code",
   "execution_count": 9,
   "metadata": {},
   "outputs": [
    {
     "data": {
      "text/plain": [
       "[('courteous', 0.9138152599334717),\n",
       " ('professional', 0.8594415187835693),\n",
       " ('attentive', 0.8227000832557678),\n",
       " ('curtious', 0.8150988221168518),\n",
       " ('efficient', 0.8085828423500061),\n",
       " ('accommodating', 0.7964584231376648)]"
      ]
     },
     "execution_count": 9,
     "metadata": {},
     "output_type": "execute_result"
    }
   ],
   "source": [
    "# look up top 6 words similar to 'polite'\n",
    "w1 = [\"polite\"]\n",
    "model.wv.most_similar(positive=w1, topn=6)"
   ]
  },
  {
   "cell_type": "code",
   "execution_count": 10,
   "metadata": {},
   "outputs": [
    {
     "data": {
      "text/plain": [
       "[('germany', 0.737169623374939),\n",
       " ('england', 0.6970140933990479),\n",
       " ('spain', 0.6697301268577576),\n",
       " ('europe', 0.6413246393203735),\n",
       " ('ukraine', 0.635417103767395),\n",
       " ('rome', 0.6307511329650879)]"
      ]
     },
     "execution_count": 10,
     "metadata": {},
     "output_type": "execute_result"
    }
   ],
   "source": [
    "# look up top 6 words similar to 'france'\n",
    "w1 = [\"france\"]\n",
    "model.wv.most_similar(positive=w1, topn=6)"
   ]
  },
  {
   "cell_type": "markdown",
   "metadata": {},
   "source": [
    "We can also provide to *most_similar* not only positive concepts, but also negative ones. This allows us to do some arithmetic on the vector representations for certain sets of words!\n",
    "\n",
    "The famous example **king - man + woman = queen** goes as follows:"
   ]
  },
  {
   "cell_type": "code",
   "execution_count": 11,
   "metadata": {},
   "outputs": [
    {
     "data": {
      "text/plain": [
       "[('queen', 0.7784039378166199)]"
      ]
     },
     "execution_count": 11,
     "metadata": {},
     "output_type": "execute_result"
    }
   ],
   "source": [
    "# arithmetic: vec(“king”) - vec(“man”) + vec(“woman”) =~ vec(“queen”)\n",
    "w1 = [\"king\",'woman']\n",
    "w2 = ['man']\n",
    "model.wv.most_similar(positive=w1, negative=w2, topn=1)"
   ]
  },
  {
   "cell_type": "markdown",
   "metadata": {},
   "source": [
    "We can get the similarity scores for specific word pairs."
   ]
  },
  {
   "cell_type": "code",
   "execution_count": 12,
   "metadata": {},
   "outputs": [
    {
     "data": {
      "text/plain": [
       "0.8528005"
      ]
     },
     "execution_count": 12,
     "metadata": {},
     "output_type": "execute_result"
    }
   ],
   "source": [
    "# similarity between two different words\n",
    "model.wv.similarity(w1=\"dirty\", w2=\"smelly\")"
   ]
  },
  {
   "cell_type": "code",
   "execution_count": 13,
   "metadata": {},
   "outputs": [
    {
     "data": {
      "text/plain": [
       "1.0"
      ]
     },
     "execution_count": 13,
     "metadata": {},
     "output_type": "execute_result"
    }
   ],
   "source": [
    "# similarity between two identical words\n",
    "model.wv.similarity(w1=\"dirty\", w2=\"dirty\")"
   ]
  },
  {
   "cell_type": "code",
   "execution_count": 14,
   "metadata": {},
   "outputs": [
    {
     "data": {
      "text/plain": [
       "0.3560674"
      ]
     },
     "execution_count": 14,
     "metadata": {},
     "output_type": "execute_result"
    }
   ],
   "source": [
    "# similarity between two unrelated words\n",
    "model.wv.similarity(w1=\"dirty\", w2=\"clean\")"
   ]
  },
  {
   "cell_type": "markdown",
   "metadata": {},
   "source": [
    "And we can check which word in a list of words is an intruder:"
   ]
  },
  {
   "cell_type": "code",
   "execution_count": 15,
   "metadata": {},
   "outputs": [
    {
     "data": {
      "text/plain": [
       "'france'"
      ]
     },
     "execution_count": 15,
     "metadata": {},
     "output_type": "execute_result"
    }
   ],
   "source": [
    "model.wv.doesnt_match([\"cat\", \"dog\", \"france\"])"
   ]
  },
  {
   "cell_type": "code",
   "execution_count": 16,
   "metadata": {},
   "outputs": [
    {
     "data": {
      "text/plain": [
       "'shower'"
      ]
     },
     "execution_count": 16,
     "metadata": {},
     "output_type": "execute_result"
    }
   ],
   "source": [
    "model.wv.doesnt_match([\"bed\", \"pillow\", \"duvet\", \"shower\"])"
   ]
  },
  {
   "cell_type": "code",
   "execution_count": 17,
   "metadata": {},
   "outputs": [
    {
     "data": {
      "text/plain": [
       "'plane'"
      ]
     },
     "execution_count": 17,
     "metadata": {},
     "output_type": "execute_result"
    }
   ],
   "source": [
    "model.wv.doesnt_match([\"car\", \"bicycle\", \"plane\", \"skate\"])"
   ]
  },
  {
   "cell_type": "code",
   "execution_count": 18,
   "metadata": {},
   "outputs": [
    {
     "data": {
      "text/plain": [
       "'bicycle'"
      ]
     },
     "execution_count": 18,
     "metadata": {},
     "output_type": "execute_result"
    }
   ],
   "source": [
    "model.wv.doesnt_match([\"car\", \"bicycle\", \"bus\", \"trolley\"])"
   ]
  },
  {
   "cell_type": "markdown",
   "metadata": {},
   "source": [
    "Make your own experiments! Try to find out:\n",
    "- Which word is most similar to *lift*?\n",
    "- What are the 3 words most similar to *crab*?\n",
    "- How similar are the words *waitress* and *waiter*?\n",
    "- If you take *portugal*, remove *lisbon*, and add *dublin*, what do you get?"
   ]
  },
  {
   "cell_type": "code",
   "execution_count": 19,
   "metadata": {},
   "outputs": [
    {
     "data": {
      "text/plain": [
       "('lifts', 0.8279538750648499)"
      ]
     },
     "execution_count": 19,
     "metadata": {},
     "output_type": "execute_result"
    }
   ],
   "source": [
    "# your code here\n",
    "model.wv.most_similar(positive=[\"lift\"], topn=1)[0]"
   ]
  },
  {
   "cell_type": "code",
   "execution_count": 20,
   "metadata": {},
   "outputs": [
    {
     "data": {
      "text/plain": [
       "[('lobster', 0.7686520218849182),\n",
       " ('shrimp', 0.7670009732246399),\n",
       " ('seafood', 0.7514821887016296)]"
      ]
     },
     "execution_count": 20,
     "metadata": {},
     "output_type": "execute_result"
    }
   ],
   "source": [
    "model.wv.most_similar(positive=[\"crab\"], topn=3)"
   ]
  },
  {
   "cell_type": "code",
   "execution_count": 21,
   "metadata": {},
   "outputs": [
    {
     "data": {
      "text/plain": [
       "0.88566947"
      ]
     },
     "execution_count": 21,
     "metadata": {},
     "output_type": "execute_result"
    }
   ],
   "source": [
    "model.wv.similarity(w1=\"waitress\", w2=\"waiter\")"
   ]
  },
  {
   "cell_type": "code",
   "execution_count": 22,
   "metadata": {},
   "outputs": [
    {
     "data": {
      "text/plain": [
       "[('ireland', 0.6303991675376892)]"
      ]
     },
     "execution_count": 22,
     "metadata": {},
     "output_type": "execute_result"
    }
   ],
   "source": [
    "# arithmetic: vec(“portugal”) - vec(“lisbon”) + vec(“dublin”) =~ vec(“?”)\n",
    "w1 = [\"portugal\",'dublin']\n",
    "w2 = ['lisbon']\n",
    "model.wv.most_similar(positive=w1, negative=w2, topn=1)"
   ]
  },
  {
   "cell_type": "markdown",
   "metadata": {},
   "source": [
    "#### Saving and loading a Word2Vec model\n",
    "\n",
    "You can save a trained model so that you are able to load it again in the future, and optionally continue training it."
   ]
  },
  {
   "cell_type": "code",
   "execution_count": 23,
   "metadata": {},
   "outputs": [
    {
     "name": "stderr",
     "output_type": "stream",
     "text": [
      "2023-03-10 10:29:43,175 : INFO : Word2Vec lifecycle event {'fname_or_handle': 'reviews_model', 'separately': 'None', 'sep_limit': 10485760, 'ignore': frozenset(), 'datetime': '2023-03-10T10:29:43.175874', 'gensim': '4.3.1', 'python': '3.10.10 (tags/v3.10.10:aad5f6a, Feb  7 2023, 17:20:36) [MSC v.1929 64 bit (AMD64)]', 'platform': 'Windows-10-10.0.22621-SP0', 'event': 'saving'}\n",
      "2023-03-10 10:29:43,176 : INFO : storing np array 'vectors' to reviews_model.wv.vectors.npy\n",
      "2023-03-10 10:29:43,297 : INFO : storing np array 'syn1neg' to reviews_model.syn1neg.npy\n",
      "2023-03-10 10:29:43,426 : INFO : not storing attribute cum_table\n",
      "2023-03-10 10:29:43,467 : INFO : saved reviews_model\n"
     ]
    }
   ],
   "source": [
    "# save full model (including trainable vectors to resume training)\n",
    "model.save(\"reviews_model\")"
   ]
  },
  {
   "cell_type": "code",
   "execution_count": 24,
   "metadata": {},
   "outputs": [
    {
     "name": "stderr",
     "output_type": "stream",
     "text": [
      "2023-03-10 10:29:46,957 : INFO : loading Word2Vec object from reviews_model\n",
      "2023-03-10 10:29:46,984 : INFO : loading wv recursively from reviews_model.wv.* with mmap=None\n",
      "2023-03-10 10:29:46,985 : INFO : loading vectors from reviews_model.wv.vectors.npy with mmap=None\n",
      "2023-03-10 10:29:47,081 : INFO : loading syn1neg from reviews_model.syn1neg.npy with mmap=None\n",
      "2023-03-10 10:29:47,165 : INFO : setting ignored attribute cum_table to None\n",
      "2023-03-10 10:29:47,581 : INFO : Word2Vec lifecycle event {'fname': 'reviews_model', 'datetime': '2023-03-10T10:29:47.581450', 'gensim': '4.3.1', 'python': '3.10.10 (tags/v3.10.10:aad5f6a, Feb  7 2023, 17:20:36) [MSC v.1929 64 bit (AMD64)]', 'platform': 'Windows-10-10.0.22621-SP0', 'event': 'loaded'}\n"
     ]
    }
   ],
   "source": [
    "# load full model\n",
    "model = gensim.models.Word2Vec.load(\"reviews_model\")"
   ]
  },
  {
   "cell_type": "markdown",
   "metadata": {},
   "source": [
    "#### Saving and loading the word embeddings\n",
    "\n",
    "If you're sure you won't be training the model any longer, you can save its *KeyedVectors* (the word embeddings)."
   ]
  },
  {
   "cell_type": "code",
   "execution_count": 25,
   "metadata": {},
   "outputs": [
    {
     "name": "stderr",
     "output_type": "stream",
     "text": [
      "2023-03-10 10:29:53,464 : INFO : KeyedVectors lifecycle event {'fname_or_handle': 'reviews_wv', 'separately': 'None', 'sep_limit': 10485760, 'ignore': frozenset(), 'datetime': '2023-03-10T10:29:53.464212', 'gensim': '4.3.1', 'python': '3.10.10 (tags/v3.10.10:aad5f6a, Feb  7 2023, 17:20:36) [MSC v.1929 64 bit (AMD64)]', 'platform': 'Windows-10-10.0.22621-SP0', 'event': 'saving'}\n",
      "2023-03-10 10:29:53,465 : INFO : storing np array 'vectors' to reviews_wv.vectors.npy\n",
      "2023-03-10 10:29:53,616 : INFO : saved reviews_wv\n"
     ]
    }
   ],
   "source": [
    "# save model word vectors\n",
    "model.wv.save(\"reviews_wv\")"
   ]
  },
  {
   "cell_type": "markdown",
   "metadata": {},
   "source": [
    "After saving the embeddings, you can load them and use them."
   ]
  },
  {
   "cell_type": "code",
   "execution_count": 26,
   "metadata": {},
   "outputs": [
    {
     "name": "stderr",
     "output_type": "stream",
     "text": [
      "2023-03-10 10:29:56,427 : INFO : loading KeyedVectors object from reviews_wv\n",
      "2023-03-10 10:29:56,452 : INFO : loading vectors from reviews_wv.vectors.npy with mmap=None\n",
      "2023-03-10 10:29:56,553 : INFO : KeyedVectors lifecycle event {'fname': 'reviews_wv', 'datetime': '2023-03-10T10:29:56.553597', 'gensim': '4.3.1', 'python': '3.10.10 (tags/v3.10.10:aad5f6a, Feb  7 2023, 17:20:36) [MSC v.1929 64 bit (AMD64)]', 'platform': 'Windows-10-10.0.22621-SP0', 'event': 'loaded'}\n"
     ]
    },
    {
     "name": "stdout",
     "output_type": "stream",
     "text": [
      "[('lifts', 0.8279538750648499)]\n"
     ]
    }
   ],
   "source": [
    "# load model word vectors\n",
    "wv = gensim.models.KeyedVectors.load(\"reviews_wv\")\n",
    "\n",
    "print(wv.most_similar(positive=\"lift\", topn=1))"
   ]
  },
  {
   "cell_type": "markdown",
   "metadata": {},
   "source": [
    "## Visualization\n",
    "\n",
    "Word embeddings can be visualized by reducing dimensionality of the words to 2 dimensions using [tSNE](https://scikit-learn.org/stable/modules/generated/sklearn.manifold.TSNE.html).\n",
    "\n",
    "Given enough training data, we can observe certain patterns in the vector space, including:\n",
    "- Semantic relations: words like *cat*, *dog*, *cow*, etc. have a tendency to lie close by.\n",
    "- Syntactic relations: words like *run*, *running* or *cut*, *cutting* lie close together.\n",
    "- Arithmetic properties such as *King - Man = Queen - Woman*."
   ]
  },
  {
   "cell_type": "code",
   "execution_count": 34,
   "metadata": {},
   "outputs": [],
   "source": [
    "from sklearn.manifold import TSNE\n",
    "import numpy as np\n",
    "import matplotlib.pyplot as plt\n",
    "import random\n",
    "\n",
    "\n",
    "def reduce_dimensions(model, num_dimensions=2, words=[], perplexity=2):\n",
    "\n",
    "    vectors = [] # positions in vector space\n",
    "    labels = [] # keep track of words to label our data again later\n",
    "    word_count = 0\n",
    "    \n",
    "    # if no word list is given, assume we want to use the whole data in the model\n",
    "    if(words == []):\n",
    "        words = model.wv.index_to_key\n",
    "\n",
    "    for word in words:\n",
    "        vectors.append(model.wv[word])\n",
    "        labels.append(word)\n",
    "\n",
    "    # convert both lists into numpy vectors for reduction\n",
    "    vectors = np.asarray(vectors)\n",
    "    labels = np.asarray(labels)\n",
    "\n",
    "    # reduce using t-SNE\n",
    "    tsne = TSNE(n_components=num_dimensions, random_state=0, perplexity=perplexity)\n",
    "    vectors = tsne.fit_transform(vectors)\n",
    "\n",
    "    return vectors, labels\n",
    "\n",
    "\n",
    "# 2 dimension plotting\n",
    "def plot_with_matplotlib(x_vals, y_vals, labels, words=[]):\n",
    "\n",
    "    random.seed(0)\n",
    "    \n",
    "    x_vals_new = np.array([])\n",
    "    y_vals_new = np.array([])\n",
    "    labels_new = np.array([])\n",
    "    if(words == []):\n",
    "        # if no word list is given, assume we want to plot the whole data\n",
    "        x_vals_new = x_vals\n",
    "        y_vals_new = y_vals\n",
    "        labels_new = labels\n",
    "    else:\n",
    "        for i in range(len(labels)):\n",
    "            if(labels[i] in words):\n",
    "                x_vals_new = np.append(x_vals_new,x_vals[i])\n",
    "                y_vals_new = np.append(y_vals_new,y_vals[i])\n",
    "                labels_new = np.append(labels_new,labels[i])\n",
    "    \n",
    "    plt.figure(figsize=(12, 12))\n",
    "    plt.scatter(x_vals_new, y_vals_new)\n",
    "\n",
    "    # apply labels\n",
    "    for i in range(len(labels_new)):\n",
    "        plt.annotate(labels_new[i], (x_vals_new[i], y_vals_new[i]))\n",
    "    \n",
    "    plt.show()"
   ]
  },
  {
   "cell_type": "code",
   "execution_count": 41,
   "metadata": {},
   "outputs": [
    {
     "name": "stdout",
     "output_type": "stream",
     "text": [
      "[-58.256107, 428.6789, -8.955937, -350.48727] [1102.4009, 18.679525, -1107.7054, -11.925928] ['king' 'man' 'queen' 'woman']\n"
     ]
    }
   ],
   "source": [
    "words = []\n",
    "words.extend([\"king\", \"man\", \"queen\", \"woman\"])\n",
    "\n",
    "vectors, labels = reduce_dimensions(model, 2, words, perplexity=2)\n",
    "x_vals = [v[0] for v in vectors]\n",
    "y_vals = [v[1] for v in vectors]\n",
    "print(x_vals, y_vals, labels)"
   ]
  },
  {
   "cell_type": "code",
   "execution_count": 42,
   "metadata": {},
   "outputs": [
    {
     "data": {
      "image/png": "[encoded data removed]",
      "text/plain": [
       "<Figure size 864x864 with 1 Axes>"
      ]
     },
     "metadata": {
      "needs_background": "light"
     },
     "output_type": "display_data"
    }
   ],
   "source": [
    "plot_with_matplotlib(x_vals, y_vals, labels, [\"king\", \"man\", \"queen\", \"woman\"])"
   ]
  },
  {
   "cell_type": "markdown",
   "metadata": {},
   "source": [
    "## Portuguese embeddings\n",
    "\n",
    "A number of embeddings for Portuguese are available at [NILC](http://nilc.icmc.usp.br/embeddings), as well as at the [NLX-group](https://github.com/nlx-group/LX-DSemVectors)."
   ]
  },
  {
   "cell_type": "code",
   "execution_count": 44,
   "metadata": {},
   "outputs": [
    {
     "name": "stderr",
     "output_type": "stream",
     "text": [
      "2023-03-10 10:50:50,834 : INFO : loading projection weights from skip_s100.txt\n",
      "2023-03-10 10:51:51,180 : INFO : KeyedVectors lifecycle event {'msg': 'loaded (929606, 100) matrix of type float32 from skip_s100.txt', 'binary': False, 'encoding': 'utf8', 'datetime': '2023-03-10T10:51:51.180187', 'gensim': '4.3.1', 'python': '3.10.10 (tags/v3.10.10:aad5f6a, Feb  7 2023, 17:20:36) [MSC v.1929 64 bit (AMD64)]', 'platform': 'Windows-10-10.0.22621-SP0', 'event': 'load_word2vec_format'}\n"
     ]
    }
   ],
   "source": [
    "from gensim.models import KeyedVectors\n",
    "\n",
    "# takes a while to load...\n",
    "model_pt = KeyedVectors.load_word2vec_format('skip_s100.txt')"
   ]
  },
  {
   "cell_type": "code",
   "execution_count": 45,
   "metadata": {},
   "outputs": [
    {
     "name": "stderr",
     "output_type": "stream",
     "text": [
      "2023-03-10 10:54:12,167 : INFO : KeyedVectors lifecycle event {'fname_or_handle': 'pt_wv', 'separately': 'None', 'sep_limit': 10485760, 'ignore': frozenset(), 'datetime': '2023-03-10T10:54:12.167048', 'gensim': '4.3.1', 'python': '3.10.10 (tags/v3.10.10:aad5f6a, Feb  7 2023, 17:20:36) [MSC v.1929 64 bit (AMD64)]', 'platform': 'Windows-10-10.0.22621-SP0', 'event': 'saving'}\n",
      "2023-03-10 10:54:12,167 : INFO : storing np array 'vectors' to pt_wv.vectors.npy\n",
      "2023-03-10 10:54:14,073 : INFO : saved pt_wv\n"
     ]
    }
   ],
   "source": [
    "# save model word vectors\n",
    "model_pt.save(\"pt_wv\")"
   ]
  },
  {
   "cell_type": "code",
   "execution_count": 46,
   "metadata": {},
   "outputs": [
    {
     "name": "stderr",
     "output_type": "stream",
     "text": [
      "2023-03-10 10:54:15,614 : INFO : loading KeyedVectors object from pt_wv\n",
      "2023-03-10 10:54:15,957 : INFO : loading vectors from pt_wv.vectors.npy with mmap=None\n",
      "2023-03-10 10:54:16,223 : INFO : KeyedVectors lifecycle event {'fname': 'pt_wv', 'datetime': '2023-03-10T10:54:16.223178', 'gensim': '4.3.1', 'python': '3.10.10 (tags/v3.10.10:aad5f6a, Feb  7 2023, 17:20:36) [MSC v.1929 64 bit (AMD64)]', 'platform': 'Windows-10-10.0.22621-SP0', 'event': 'loaded'}\n"
     ]
    }
   ],
   "source": [
    "# load model word vectors (much faster than the above)\n",
    "model_pt = gensim.models.KeyedVectors.load(\"pt_wv\")"
   ]
  },
  {
   "cell_type": "code",
   "execution_count": 47,
   "metadata": {},
   "outputs": [
    {
     "data": {
      "text/plain": [
       "[('cachorro', 0.854576826095581),\n",
       " ('gato', 0.8402905464172363),\n",
       " ('monstro', 0.8336718082427979),\n",
       " ('pássaro', 0.8299859166145325),\n",
       " ('ogro', 0.8261020183563232),\n",
       " ('gorila', 0.8195290565490723),\n",
       " ('furão', 0.813050389289856),\n",
       " ('cãozinho', 0.8127979040145874),\n",
       " ('felino', 0.8087738752365112),\n",
       " ('filhote', 0.8069430589675903)]"
      ]
     },
     "execution_count": 47,
     "metadata": {},
     "output_type": "execute_result"
    }
   ],
   "source": [
    "model_pt.most_similar(positive=[\"cão\"])"
   ]
  },
  {
   "cell_type": "code",
   "execution_count": 48,
   "metadata": {},
   "outputs": [
    {
     "data": {
      "text/plain": [
       "[('rainha-consorte', 0.7912214994430542),\n",
       " ('primogénita', 0.7738461494445801),\n",
       " ('imperatriz-mãe', 0.7646884322166443),\n",
       " ('paleóloga', 0.752788245677948),\n",
       " ('dama-de-companhia', 0.7478024363517761),\n",
       " ('consorte', 0.7475904226303101),\n",
       " ('princesa-eleitora', 0.7472771406173706),\n",
       " ('piroska', 0.7468665838241577),\n",
       " ('ulrica', 0.7454056143760681),\n",
       " ('ranavalona', 0.7441918253898621)]"
      ]
     },
     "execution_count": 48,
     "metadata": {},
     "output_type": "execute_result"
    }
   ],
   "source": [
    "model_pt.most_similar(positive=[\"rei\", \"mulher\"], negative=[\"homem\"])"
   ]
  },
  {
   "cell_type": "markdown",
   "metadata": {},
   "source": [
    "Make your own experiments!"
   ]
  },
  {
   "cell_type": "code",
   "execution_count": 49,
   "metadata": {},
   "outputs": [
    {
     "data": {
      "text/plain": [
       "[('mansão', 0.7396272420883179),\n",
       " ('vivenda', 0.7321804165840149),\n",
       " ('estalagem', 0.6893709897994995),\n",
       " ('cela', 0.6834624409675598),\n",
       " ('hospedaria', 0.6827734112739563),\n",
       " ('pousada', 0.6722568273544312),\n",
       " ('ipatiev', 0.6606154441833496),\n",
       " ('taverna', 0.6488834619522095),\n",
       " ('residência', 0.6456461548805237),\n",
       " ('casa.', 0.6394262313842773)]"
      ]
     },
     "execution_count": 49,
     "metadata": {},
     "output_type": "execute_result"
    }
   ],
   "source": [
    "# your code here\n",
    "model_pt.most_similar(positive=[\"casa\"])"
   ]
  }
 ],
 "metadata": {
  "kernelspec": {
   "display_name": "Python 3",
   "language": "python",
   "name": "python3"
  },
  "language_info": {
   "codemirror_mode": {
    "name": "ipython",
    "version": 3
   },
   "file_extension": ".py",
   "mimetype": "text/x-python",
   "name": "python",
   "nbconvert_exporter": "python",
   "pygments_lexer": "ipython3",
   "version": "3.10.10"
  }
 },
 "nbformat": 4,
 "nbformat_minor": 2
}
